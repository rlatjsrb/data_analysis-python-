{
 "cells": [
  {
   "cell_type": "code",
   "execution_count": 1,
   "id": "8bf80de4",
   "metadata": {},
   "outputs": [],
   "source": [
    "import numpy as np"
   ]
  },
  {
   "cell_type": "code",
   "execution_count": 3,
   "id": "be4d738e",
   "metadata": {},
   "outputs": [
    {
     "data": {
      "text/plain": [
       "array([1, 2, 3, 4])"
      ]
     },
     "execution_count": 3,
     "metadata": {},
     "output_type": "execute_result"
    }
   ],
   "source": [
    "np_arr1 = np.array([1,2,3,4])\n",
    "np_arr1"
   ]
  },
  {
   "cell_type": "code",
   "execution_count": 4,
   "id": "b306f61a",
   "metadata": {},
   "outputs": [
    {
     "data": {
      "text/plain": [
       "array([[ 1,  2,  3,  4],\n",
       "       [11, 12, 13, 14]])"
      ]
     },
     "execution_count": 4,
     "metadata": {},
     "output_type": "execute_result"
    }
   ],
   "source": [
    "np_arr2 = np.array([[1,2,3,4],[11,12,13,14]])\n",
    "np_arr2"
   ]
  },
  {
   "cell_type": "code",
   "execution_count": 5,
   "id": "57248cf4",
   "metadata": {},
   "outputs": [
    {
     "data": {
      "text/plain": [
       "array([[[ 1,  2,  3,  4],\n",
       "        [11, 12, 13, 14]],\n",
       "\n",
       "       [[21, 22, 23, 24],\n",
       "        [31, 32, 33, 34]]])"
      ]
     },
     "execution_count": 5,
     "metadata": {},
     "output_type": "execute_result"
    }
   ],
   "source": [
    "np_arr3 = np.array([[[1,2,3,4],[11,12,13,14]],[[21,22,23,24],[31,32,33,34]]])\n",
    "np_arr3"
   ]
  },
  {
   "cell_type": "code",
   "execution_count": 7,
   "id": "bd59e3c2",
   "metadata": {},
   "outputs": [
    {
     "name": "stdout",
     "output_type": "stream",
     "text": [
      "(4,)\n",
      "(2, 4)\n",
      "(2, 2, 4)\n"
     ]
    }
   ],
   "source": [
    "print(np_arr1.shape)\n",
    "print(np_arr2.shape)\n",
    "print(np_arr3.shape)"
   ]
  },
  {
   "cell_type": "code",
   "execution_count": 10,
   "id": "5d2a588d",
   "metadata": {},
   "outputs": [],
   "source": [
    "z1 = np.zeros([4])\n",
    "o2 = np.ones([3,4])\n",
    "r2 = np.random.rand(2,3)"
   ]
  },
  {
   "cell_type": "code",
   "execution_count": 11,
   "id": "e09a1e2e",
   "metadata": {},
   "outputs": [
    {
     "data": {
      "text/plain": [
       "(array([0., 0., 0., 0.]),\n",
       " array([[1., 1., 1., 1.],\n",
       "        [1., 1., 1., 1.],\n",
       "        [1., 1., 1., 1.]]),\n",
       " array([[0.57470876, 0.52000825, 0.97215324],\n",
       "        [0.69064795, 0.15836802, 0.67739156]]))"
      ]
     },
     "execution_count": 11,
     "metadata": {},
     "output_type": "execute_result"
    }
   ],
   "source": [
    "z1,o2,r2"
   ]
  },
  {
   "cell_type": "code",
   "execution_count": 12,
   "id": "20653c6a",
   "metadata": {},
   "outputs": [
    {
     "name": "stdout",
     "output_type": "stream",
     "text": [
      "(4,)\n",
      "(3, 4)\n",
      "(2, 3)\n"
     ]
    }
   ],
   "source": [
    "print(z1.shape)\n",
    "print(o2.shape)\n",
    "print(r2.shape)"
   ]
  },
  {
   "cell_type": "code",
   "execution_count": 13,
   "id": "55567fd4",
   "metadata": {},
   "outputs": [
    {
     "data": {
      "text/plain": [
       "array([[[[-0.215, -1.037, -1.068,  0.483,  1.004],\n",
       "         [ 1.03 ,  0.18 ,  0.152,  0.167, -0.842],\n",
       "         [-0.074, -1.082,  1.299,  1.204, -0.871],\n",
       "         [ 0.355, -1.864, -0.898,  0.401,  0.296]],\n",
       "\n",
       "        [[-0.436,  1.691,  0.428,  0.343, -0.352],\n",
       "         [-1.63 , -2.766,  0.987, -0.463,  1.032],\n",
       "         [ 2.114, -1.647,  0.775,  0.718, -1.371],\n",
       "         [-1.49 ,  0.616,  0.227,  1.344,  0.332]]],\n",
       "\n",
       "\n",
       "       [[[ 0.409,  0.278,  0.104, -0.834, -0.371],\n",
       "         [ 0.767, -0.324, -0.637, -1.104, -0.228],\n",
       "         [ 1.958,  1.373, -0.625,  0.535, -0.272],\n",
       "         [ 1.341,  0.432,  0.411, -0.785,  0.938]],\n",
       "\n",
       "        [[ 2.153, -0.326,  0.331, -0.672, -0.252],\n",
       "         [-0.035, -0.047,  2.699, -1.53 ,  0.274],\n",
       "         [ 1.263,  1.756,  2.521, -2.2  ,  0.936],\n",
       "         [ 0.726, -1.392,  0.518, -1.404, -0.191]]]])"
      ]
     },
     "execution_count": 13,
     "metadata": {},
     "output_type": "execute_result"
    }
   ],
   "source": [
    "r4 = np.random.randn(2,2,4,5).round(3)\n",
    "r4"
   ]
  },
  {
   "cell_type": "code",
   "execution_count": 14,
   "id": "4b5f2d3c",
   "metadata": {},
   "outputs": [
    {
     "data": {
      "text/plain": [
       "array([[ 0.409,  0.278,  0.104, -0.834, -0.371],\n",
       "       [ 0.767, -0.324, -0.637, -1.104, -0.228],\n",
       "       [ 1.958,  1.373, -0.625,  0.535, -0.272],\n",
       "       [ 1.341,  0.432,  0.411, -0.785,  0.938]])"
      ]
     },
     "execution_count": 14,
     "metadata": {},
     "output_type": "execute_result"
    }
   ],
   "source": [
    "r4[1][0]"
   ]
  },
  {
   "cell_type": "code",
   "execution_count": 15,
   "id": "20e71b5f",
   "metadata": {},
   "outputs": [
    {
     "data": {
      "text/plain": [
       "array([ 1.958,  1.373, -0.625,  0.535, -0.272])"
      ]
     },
     "execution_count": 15,
     "metadata": {},
     "output_type": "execute_result"
    }
   ],
   "source": [
    "r4[1][0][2]"
   ]
  },
  {
   "cell_type": "code",
   "execution_count": 16,
   "id": "77f35daa",
   "metadata": {},
   "outputs": [
    {
     "data": {
      "text/plain": [
       "-0.272"
      ]
     },
     "execution_count": 16,
     "metadata": {},
     "output_type": "execute_result"
    }
   ],
   "source": [
    "r4[1][0][2][4]"
   ]
  },
  {
   "cell_type": "code",
   "execution_count": 17,
   "id": "cdaf251a",
   "metadata": {},
   "outputs": [
    {
     "data": {
      "text/plain": [
       "array([[ 0.409,  0.278,  0.104, -0.834, -0.371],\n",
       "       [ 1.958,  1.373, -0.625,  0.535, -0.272]])"
      ]
     },
     "execution_count": 17,
     "metadata": {},
     "output_type": "execute_result"
    }
   ],
   "source": [
    "r4[1][0][0:4:2]"
   ]
  },
  {
   "cell_type": "code",
   "execution_count": 18,
   "id": "2dade0d6",
   "metadata": {},
   "outputs": [
    {
     "data": {
      "text/plain": [
       "array([[ 0.767, -0.324, -0.637, -1.104, -0.228],\n",
       "       [ 1.341,  0.432,  0.411, -0.785,  0.938]])"
      ]
     },
     "execution_count": 18,
     "metadata": {},
     "output_type": "execute_result"
    }
   ],
   "source": [
    "r4[1][0][1:4:2]"
   ]
  },
  {
   "cell_type": "code",
   "execution_count": 20,
   "id": "3e253147",
   "metadata": {},
   "outputs": [
    {
     "data": {
      "text/plain": [
       "array([-0.785,  0.938])"
      ]
     },
     "execution_count": 20,
     "metadata": {},
     "output_type": "execute_result"
    }
   ],
   "source": [
    "r4[1][0][1:4:2][1,3:]"
   ]
  },
  {
   "cell_type": "code",
   "execution_count": 22,
   "id": "d753df0c",
   "metadata": {},
   "outputs": [
    {
     "data": {
      "text/plain": [
       "array([[ 1,  2,  3,  4],\n",
       "       [10, 11, 12, 13]])"
      ]
     },
     "execution_count": 22,
     "metadata": {},
     "output_type": "execute_result"
    }
   ],
   "source": [
    "arr = np.array([[1,2,3,4],[10,11,12,13]])\n",
    "arr"
   ]
  },
  {
   "cell_type": "code",
   "execution_count": 23,
   "id": "44ffe14d",
   "metadata": {
    "scrolled": true
   },
   "outputs": [
    {
     "data": {
      "text/plain": [
       "array([[ 2,  4,  6,  8],\n",
       "       [20, 22, 24, 26]])"
      ]
     },
     "execution_count": 23,
     "metadata": {},
     "output_type": "execute_result"
    }
   ],
   "source": [
    "arr + arr"
   ]
  },
  {
   "cell_type": "code",
   "execution_count": 24,
   "id": "577db672",
   "metadata": {},
   "outputs": [
    {
     "data": {
      "text/plain": [
       "array([[  1,   4,   9,  16],\n",
       "       [100, 121, 144, 169]])"
      ]
     },
     "execution_count": 24,
     "metadata": {},
     "output_type": "execute_result"
    }
   ],
   "source": [
    "arr * arr"
   ]
  },
  {
   "cell_type": "code",
   "execution_count": 25,
   "id": "1a4fe0a9",
   "metadata": {},
   "outputs": [
    {
     "data": {
      "text/plain": [
       "array([[21, 22, 23, 24],\n",
       "       [30, 31, 32, 33]])"
      ]
     },
     "execution_count": 25,
     "metadata": {},
     "output_type": "execute_result"
    }
   ],
   "source": [
    "arr + 20"
   ]
  },
  {
   "cell_type": "code",
   "execution_count": 26,
   "id": "fec10de8",
   "metadata": {},
   "outputs": [
    {
     "data": {
      "text/plain": [
       "array([[  1,   4,   9,  16],\n",
       "       [100, 121, 144, 169]])"
      ]
     },
     "execution_count": 26,
     "metadata": {},
     "output_type": "execute_result"
    }
   ],
   "source": [
    "arr * arr"
   ]
  },
  {
   "cell_type": "code",
   "execution_count": 27,
   "id": "a209bfde",
   "metadata": {},
   "outputs": [
    {
     "data": {
      "text/plain": [
       "array([[ 100,  200,  300,  400],\n",
       "       [1000, 1100, 1200, 1300]])"
      ]
     },
     "execution_count": 27,
     "metadata": {},
     "output_type": "execute_result"
    }
   ],
   "source": [
    "arr * 100"
   ]
  },
  {
   "cell_type": "code",
   "execution_count": 28,
   "id": "b6a5a643",
   "metadata": {},
   "outputs": [
    {
     "data": {
      "text/plain": [
       "(56, 7.0, 411840, 13, 1)"
      ]
     },
     "execution_count": 28,
     "metadata": {},
     "output_type": "execute_result"
    }
   ],
   "source": [
    "arr.sum(), arr.mean(), arr.prod(), arr.max(), arr.min()"
   ]
  },
  {
   "cell_type": "code",
   "execution_count": 30,
   "id": "2046798f",
   "metadata": {},
   "outputs": [
    {
     "data": {
      "text/plain": [
       "(10, 25)"
      ]
     },
     "execution_count": 30,
     "metadata": {},
     "output_type": "execute_result"
    }
   ],
   "source": [
    "arr[1].min(), arr[1][2:].sum()"
   ]
  },
  {
   "cell_type": "code",
   "execution_count": 31,
   "id": "ae375558",
   "metadata": {},
   "outputs": [
    {
     "data": {
      "text/plain": [
       "(7, 3, 0)"
      ]
     },
     "execution_count": 31,
     "metadata": {},
     "output_type": "execute_result"
    }
   ],
   "source": [
    "arr.argmax(), arr[1].argmax(), arr.argmin()"
   ]
  }
 ],
 "metadata": {
  "kernelspec": {
   "display_name": "Python 3",
   "language": "python",
   "name": "python3"
  },
  "language_info": {
   "codemirror_mode": {
    "name": "ipython",
    "version": 3
   },
   "file_extension": ".py",
   "mimetype": "text/x-python",
   "name": "python",
   "nbconvert_exporter": "python",
   "pygments_lexer": "ipython3",
   "version": "3.8.8"
  }
 },
 "nbformat": 4,
 "nbformat_minor": 5
}
