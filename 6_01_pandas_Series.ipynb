{
 "cells": [
  {
   "cell_type": "markdown",
   "id": "1605c083",
   "metadata": {},
   "source": [
    "Series 공부"
   ]
  },
  {
   "cell_type": "code",
   "execution_count": 1,
   "id": "84619ca0",
   "metadata": {},
   "outputs": [],
   "source": [
    "import pandas as pd"
   ]
  },
  {
   "cell_type": "code",
   "execution_count": 3,
   "id": "499b9bec",
   "metadata": {
    "collapsed": true
   },
   "outputs": [
    {
     "data": {
      "text/html": [
       "<div>\n",
       "<style scoped>\n",
       "    .dataframe tbody tr th:only-of-type {\n",
       "        vertical-align: middle;\n",
       "    }\n",
       "\n",
       "    .dataframe tbody tr th {\n",
       "        vertical-align: top;\n",
       "    }\n",
       "\n",
       "    .dataframe thead th {\n",
       "        text-align: right;\n",
       "    }\n",
       "</style>\n",
       "<table border=\"1\" class=\"dataframe\">\n",
       "  <thead>\n",
       "    <tr style=\"text-align: right;\">\n",
       "      <th></th>\n",
       "      <th>2018-06-01</th>\n",
       "      <th>2018-06-04</th>\n",
       "      <th>2018-06-05</th>\n",
       "      <th>2018-06-07</th>\n",
       "      <th>2018-06-08</th>\n",
       "      <th>2018-06-11</th>\n",
       "      <th>2018-06-12</th>\n",
       "      <th>2018-06-14</th>\n",
       "      <th>2018-06-15</th>\n",
       "      <th>2018-06-18</th>\n",
       "      <th>...</th>\n",
       "      <th>2020-09-07</th>\n",
       "      <th>2020-09-08</th>\n",
       "      <th>2020-09-09</th>\n",
       "      <th>2020-09-10</th>\n",
       "      <th>2020-09-11</th>\n",
       "      <th>2020-09-14</th>\n",
       "      <th>2020-09-15</th>\n",
       "      <th>2020-09-16</th>\n",
       "      <th>2020-09-17</th>\n",
       "      <th>2020-09-18</th>\n",
       "    </tr>\n",
       "    <tr>\n",
       "      <th>Symbol</th>\n",
       "      <th></th>\n",
       "      <th></th>\n",
       "      <th></th>\n",
       "      <th></th>\n",
       "      <th></th>\n",
       "      <th></th>\n",
       "      <th></th>\n",
       "      <th></th>\n",
       "      <th></th>\n",
       "      <th></th>\n",
       "      <th></th>\n",
       "      <th></th>\n",
       "      <th></th>\n",
       "      <th></th>\n",
       "      <th></th>\n",
       "      <th></th>\n",
       "      <th></th>\n",
       "      <th></th>\n",
       "      <th></th>\n",
       "      <th></th>\n",
       "      <th></th>\n",
       "    </tr>\n",
       "  </thead>\n",
       "  <tbody>\n",
       "    <tr>\n",
       "      <th>A000020</th>\n",
       "      <td>11550.0</td>\n",
       "      <td>11750.0</td>\n",
       "      <td>11700.0</td>\n",
       "      <td>11650.0</td>\n",
       "      <td>11500.0</td>\n",
       "      <td>11500.0</td>\n",
       "      <td>11650.0</td>\n",
       "      <td>12000.0</td>\n",
       "      <td>11800.0</td>\n",
       "      <td>11450.0</td>\n",
       "      <td>...</td>\n",
       "      <td>25550.0</td>\n",
       "      <td>23650.0</td>\n",
       "      <td>24550.0</td>\n",
       "      <td>25950.0</td>\n",
       "      <td>26750.0</td>\n",
       "      <td>26300.0</td>\n",
       "      <td>25400.0</td>\n",
       "      <td>25050.0</td>\n",
       "      <td>25300.0</td>\n",
       "      <td>25050.0</td>\n",
       "    </tr>\n",
       "    <tr>\n",
       "      <th>A000030</th>\n",
       "      <td>15500.0</td>\n",
       "      <td>15950.0</td>\n",
       "      <td>16050.0</td>\n",
       "      <td>16500.0</td>\n",
       "      <td>16600.0</td>\n",
       "      <td>16650.0</td>\n",
       "      <td>16850.0</td>\n",
       "      <td>16500.0</td>\n",
       "      <td>16100.0</td>\n",
       "      <td>16350.0</td>\n",
       "      <td>...</td>\n",
       "      <td>14800.0</td>\n",
       "      <td>14800.0</td>\n",
       "      <td>14800.0</td>\n",
       "      <td>14800.0</td>\n",
       "      <td>14800.0</td>\n",
       "      <td>14800.0</td>\n",
       "      <td>14800.0</td>\n",
       "      <td>14800.0</td>\n",
       "      <td>14800.0</td>\n",
       "      <td>14800.0</td>\n",
       "    </tr>\n",
       "    <tr>\n",
       "      <th>A000040</th>\n",
       "      <td>2992.0</td>\n",
       "      <td>3021.0</td>\n",
       "      <td>3025.0</td>\n",
       "      <td>3069.0</td>\n",
       "      <td>3045.0</td>\n",
       "      <td>2984.0</td>\n",
       "      <td>2976.0</td>\n",
       "      <td>3033.0</td>\n",
       "      <td>3033.0</td>\n",
       "      <td>3017.0</td>\n",
       "      <td>...</td>\n",
       "      <td>980.0</td>\n",
       "      <td>932.0</td>\n",
       "      <td>741.0</td>\n",
       "      <td>875.0</td>\n",
       "      <td>840.0</td>\n",
       "      <td>860.0</td>\n",
       "      <td>833.0</td>\n",
       "      <td>817.0</td>\n",
       "      <td>812.0</td>\n",
       "      <td>796.0</td>\n",
       "    </tr>\n",
       "    <tr>\n",
       "      <th>A000050</th>\n",
       "      <td>13200.0</td>\n",
       "      <td>13550.0</td>\n",
       "      <td>13600.0</td>\n",
       "      <td>13800.0</td>\n",
       "      <td>13800.0</td>\n",
       "      <td>13800.0</td>\n",
       "      <td>13650.0</td>\n",
       "      <td>13850.0</td>\n",
       "      <td>14500.0</td>\n",
       "      <td>14550.0</td>\n",
       "      <td>...</td>\n",
       "      <td>11100.0</td>\n",
       "      <td>11350.0</td>\n",
       "      <td>11550.0</td>\n",
       "      <td>11500.0</td>\n",
       "      <td>11550.0</td>\n",
       "      <td>11300.0</td>\n",
       "      <td>11300.0</td>\n",
       "      <td>11050.0</td>\n",
       "      <td>10900.0</td>\n",
       "      <td>10750.0</td>\n",
       "    </tr>\n",
       "    <tr>\n",
       "      <th>A000060</th>\n",
       "      <td>20050.0</td>\n",
       "      <td>20050.0</td>\n",
       "      <td>20150.0</td>\n",
       "      <td>20050.0</td>\n",
       "      <td>20400.0</td>\n",
       "      <td>20150.0</td>\n",
       "      <td>20700.0</td>\n",
       "      <td>20950.0</td>\n",
       "      <td>20150.0</td>\n",
       "      <td>20900.0</td>\n",
       "      <td>...</td>\n",
       "      <td>12700.0</td>\n",
       "      <td>12700.0</td>\n",
       "      <td>12650.0</td>\n",
       "      <td>12700.0</td>\n",
       "      <td>12800.0</td>\n",
       "      <td>13000.0</td>\n",
       "      <td>13200.0</td>\n",
       "      <td>13150.0</td>\n",
       "      <td>13150.0</td>\n",
       "      <td>13200.0</td>\n",
       "    </tr>\n",
       "    <tr>\n",
       "      <th>...</th>\n",
       "      <td>...</td>\n",
       "      <td>...</td>\n",
       "      <td>...</td>\n",
       "      <td>...</td>\n",
       "      <td>...</td>\n",
       "      <td>...</td>\n",
       "      <td>...</td>\n",
       "      <td>...</td>\n",
       "      <td>...</td>\n",
       "      <td>...</td>\n",
       "      <td>...</td>\n",
       "      <td>...</td>\n",
       "      <td>...</td>\n",
       "      <td>...</td>\n",
       "      <td>...</td>\n",
       "      <td>...</td>\n",
       "      <td>...</td>\n",
       "      <td>...</td>\n",
       "      <td>...</td>\n",
       "      <td>...</td>\n",
       "      <td>...</td>\n",
       "    </tr>\n",
       "    <tr>\n",
       "      <th>A950160</th>\n",
       "      <td>38600.0</td>\n",
       "      <td>36400.0</td>\n",
       "      <td>36350.0</td>\n",
       "      <td>38700.0</td>\n",
       "      <td>40200.0</td>\n",
       "      <td>39250.0</td>\n",
       "      <td>38300.0</td>\n",
       "      <td>38350.0</td>\n",
       "      <td>39000.0</td>\n",
       "      <td>37600.0</td>\n",
       "      <td>...</td>\n",
       "      <td>9540.0</td>\n",
       "      <td>9540.0</td>\n",
       "      <td>9540.0</td>\n",
       "      <td>9540.0</td>\n",
       "      <td>9540.0</td>\n",
       "      <td>9540.0</td>\n",
       "      <td>9540.0</td>\n",
       "      <td>9540.0</td>\n",
       "      <td>8010.0</td>\n",
       "      <td>8010.0</td>\n",
       "    </tr>\n",
       "    <tr>\n",
       "      <th>A950170</th>\n",
       "      <td>13850.0</td>\n",
       "      <td>14250.0</td>\n",
       "      <td>14450.0</td>\n",
       "      <td>14300.0</td>\n",
       "      <td>14150.0</td>\n",
       "      <td>13650.0</td>\n",
       "      <td>14050.0</td>\n",
       "      <td>13600.0</td>\n",
       "      <td>13550.0</td>\n",
       "      <td>11900.0</td>\n",
       "      <td>...</td>\n",
       "      <td>4040.0</td>\n",
       "      <td>4050.0</td>\n",
       "      <td>4245.0</td>\n",
       "      <td>4275.0</td>\n",
       "      <td>4200.0</td>\n",
       "      <td>4195.0</td>\n",
       "      <td>4070.0</td>\n",
       "      <td>4045.0</td>\n",
       "      <td>4015.0</td>\n",
       "      <td>4055.0</td>\n",
       "    </tr>\n",
       "    <tr>\n",
       "      <th>A950180</th>\n",
       "      <td>NaN</td>\n",
       "      <td>NaN</td>\n",
       "      <td>NaN</td>\n",
       "      <td>NaN</td>\n",
       "      <td>NaN</td>\n",
       "      <td>NaN</td>\n",
       "      <td>NaN</td>\n",
       "      <td>NaN</td>\n",
       "      <td>NaN</td>\n",
       "      <td>NaN</td>\n",
       "      <td>...</td>\n",
       "      <td>13200.0</td>\n",
       "      <td>13150.0</td>\n",
       "      <td>13100.0</td>\n",
       "      <td>13150.0</td>\n",
       "      <td>13100.0</td>\n",
       "      <td>13900.0</td>\n",
       "      <td>13250.0</td>\n",
       "      <td>13350.0</td>\n",
       "      <td>13550.0</td>\n",
       "      <td>13450.0</td>\n",
       "    </tr>\n",
       "    <tr>\n",
       "      <th>A950190</th>\n",
       "      <td>NaN</td>\n",
       "      <td>NaN</td>\n",
       "      <td>NaN</td>\n",
       "      <td>NaN</td>\n",
       "      <td>NaN</td>\n",
       "      <td>NaN</td>\n",
       "      <td>NaN</td>\n",
       "      <td>NaN</td>\n",
       "      <td>NaN</td>\n",
       "      <td>NaN</td>\n",
       "      <td>...</td>\n",
       "      <td>32200.0</td>\n",
       "      <td>31200.0</td>\n",
       "      <td>30400.0</td>\n",
       "      <td>30500.0</td>\n",
       "      <td>30150.0</td>\n",
       "      <td>30050.0</td>\n",
       "      <td>31450.0</td>\n",
       "      <td>31750.0</td>\n",
       "      <td>31200.0</td>\n",
       "      <td>30350.0</td>\n",
       "    </tr>\n",
       "    <tr>\n",
       "      <th>A950200</th>\n",
       "      <td>NaN</td>\n",
       "      <td>NaN</td>\n",
       "      <td>NaN</td>\n",
       "      <td>NaN</td>\n",
       "      <td>NaN</td>\n",
       "      <td>NaN</td>\n",
       "      <td>NaN</td>\n",
       "      <td>NaN</td>\n",
       "      <td>NaN</td>\n",
       "      <td>NaN</td>\n",
       "      <td>...</td>\n",
       "      <td>16750.0</td>\n",
       "      <td>16950.0</td>\n",
       "      <td>17250.0</td>\n",
       "      <td>17100.0</td>\n",
       "      <td>17350.0</td>\n",
       "      <td>17450.0</td>\n",
       "      <td>15800.0</td>\n",
       "      <td>15100.0</td>\n",
       "      <td>14700.0</td>\n",
       "      <td>14550.0</td>\n",
       "    </tr>\n",
       "  </tbody>\n",
       "</table>\n",
       "<p>2274 rows × 568 columns</p>\n",
       "</div>"
      ],
      "text/plain": [
       "         2018-06-01  2018-06-04  2018-06-05  2018-06-07  2018-06-08  \\\n",
       "Symbol                                                                \n",
       "A000020     11550.0     11750.0     11700.0     11650.0     11500.0   \n",
       "A000030     15500.0     15950.0     16050.0     16500.0     16600.0   \n",
       "A000040      2992.0      3021.0      3025.0      3069.0      3045.0   \n",
       "A000050     13200.0     13550.0     13600.0     13800.0     13800.0   \n",
       "A000060     20050.0     20050.0     20150.0     20050.0     20400.0   \n",
       "...             ...         ...         ...         ...         ...   \n",
       "A950160     38600.0     36400.0     36350.0     38700.0     40200.0   \n",
       "A950170     13850.0     14250.0     14450.0     14300.0     14150.0   \n",
       "A950180         NaN         NaN         NaN         NaN         NaN   \n",
       "A950190         NaN         NaN         NaN         NaN         NaN   \n",
       "A950200         NaN         NaN         NaN         NaN         NaN   \n",
       "\n",
       "         2018-06-11  2018-06-12  2018-06-14  2018-06-15  2018-06-18  ...  \\\n",
       "Symbol                                                               ...   \n",
       "A000020     11500.0     11650.0     12000.0     11800.0     11450.0  ...   \n",
       "A000030     16650.0     16850.0     16500.0     16100.0     16350.0  ...   \n",
       "A000040      2984.0      2976.0      3033.0      3033.0      3017.0  ...   \n",
       "A000050     13800.0     13650.0     13850.0     14500.0     14550.0  ...   \n",
       "A000060     20150.0     20700.0     20950.0     20150.0     20900.0  ...   \n",
       "...             ...         ...         ...         ...         ...  ...   \n",
       "A950160     39250.0     38300.0     38350.0     39000.0     37600.0  ...   \n",
       "A950170     13650.0     14050.0     13600.0     13550.0     11900.0  ...   \n",
       "A950180         NaN         NaN         NaN         NaN         NaN  ...   \n",
       "A950190         NaN         NaN         NaN         NaN         NaN  ...   \n",
       "A950200         NaN         NaN         NaN         NaN         NaN  ...   \n",
       "\n",
       "         2020-09-07  2020-09-08  2020-09-09  2020-09-10  2020-09-11  \\\n",
       "Symbol                                                                \n",
       "A000020     25550.0     23650.0     24550.0     25950.0     26750.0   \n",
       "A000030     14800.0     14800.0     14800.0     14800.0     14800.0   \n",
       "A000040       980.0       932.0       741.0       875.0       840.0   \n",
       "A000050     11100.0     11350.0     11550.0     11500.0     11550.0   \n",
       "A000060     12700.0     12700.0     12650.0     12700.0     12800.0   \n",
       "...             ...         ...         ...         ...         ...   \n",
       "A950160      9540.0      9540.0      9540.0      9540.0      9540.0   \n",
       "A950170      4040.0      4050.0      4245.0      4275.0      4200.0   \n",
       "A950180     13200.0     13150.0     13100.0     13150.0     13100.0   \n",
       "A950190     32200.0     31200.0     30400.0     30500.0     30150.0   \n",
       "A950200     16750.0     16950.0     17250.0     17100.0     17350.0   \n",
       "\n",
       "         2020-09-14  2020-09-15  2020-09-16  2020-09-17  2020-09-18  \n",
       "Symbol                                                               \n",
       "A000020     26300.0     25400.0     25050.0     25300.0     25050.0  \n",
       "A000030     14800.0     14800.0     14800.0     14800.0     14800.0  \n",
       "A000040       860.0       833.0       817.0       812.0       796.0  \n",
       "A000050     11300.0     11300.0     11050.0     10900.0     10750.0  \n",
       "A000060     13000.0     13200.0     13150.0     13150.0     13200.0  \n",
       "...             ...         ...         ...         ...         ...  \n",
       "A950160      9540.0      9540.0      9540.0      8010.0      8010.0  \n",
       "A950170      4195.0      4070.0      4045.0      4015.0      4055.0  \n",
       "A950180     13900.0     13250.0     13350.0     13550.0     13450.0  \n",
       "A950190     30050.0     31450.0     31750.0     31200.0     30350.0  \n",
       "A950200     17450.0     15800.0     15100.0     14700.0     14550.0  \n",
       "\n",
       "[2274 rows x 568 columns]"
      ]
     },
     "execution_count": 3,
     "metadata": {},
     "output_type": "execute_result"
    }
   ],
   "source": [
    "stock_data = pd.read_csv('stock.adj_close.csv',index_col = 0)\n",
    "stock_data"
   ]
  },
  {
   "cell_type": "code",
   "execution_count": 6,
   "id": "df3b8472",
   "metadata": {},
   "outputs": [
    {
     "data": {
      "text/plain": [
       "2020-09-09    58400.0\n",
       "2020-09-10    59200.0\n",
       "2020-09-11    59000.0\n",
       "2020-09-14    60400.0\n",
       "2020-09-15    61000.0\n",
       "2020-09-16    61000.0\n",
       "2020-09-17    59500.0\n",
       "2020-09-18    59300.0\n",
       "Name: A005930, dtype: float64"
      ]
     },
     "execution_count": 6,
     "metadata": {},
     "output_type": "execute_result"
    }
   ],
   "source": [
    "my_series = stock_data.loc['A005930']['2020-09-09':]\n",
    "my_series"
   ]
  },
  {
   "cell_type": "code",
   "execution_count": 7,
   "id": "4416d6a1",
   "metadata": {},
   "outputs": [
    {
     "data": {
      "text/plain": [
       "Index(['2020-09-09', '2020-09-10', '2020-09-11', '2020-09-14', '2020-09-15',\n",
       "       '2020-09-16', '2020-09-17', '2020-09-18'],\n",
       "      dtype='object')"
      ]
     },
     "execution_count": 7,
     "metadata": {},
     "output_type": "execute_result"
    }
   ],
   "source": [
    "my_series.index"
   ]
  },
  {
   "cell_type": "code",
   "execution_count": 8,
   "id": "8b62c7d2",
   "metadata": {},
   "outputs": [
    {
     "data": {
      "text/plain": [
       "pandas.core.series.Series"
      ]
     },
     "execution_count": 8,
     "metadata": {},
     "output_type": "execute_result"
    }
   ],
   "source": [
    "type(my_series)"
   ]
  },
  {
   "cell_type": "markdown",
   "id": "54dbef88",
   "metadata": {},
   "source": [
    "Series 접근 연산 생성"
   ]
  },
  {
   "cell_type": "code",
   "execution_count": 9,
   "id": "b05dcfcd",
   "metadata": {},
   "outputs": [
    {
     "data": {
      "text/plain": [
       "61000.0"
      ]
     },
     "execution_count": 9,
     "metadata": {},
     "output_type": "execute_result"
    }
   ],
   "source": [
    "my_series.loc['2020-09-15']"
   ]
  },
  {
   "cell_type": "code",
   "execution_count": 10,
   "id": "dd747827",
   "metadata": {},
   "outputs": [
    {
     "data": {
      "text/plain": [
       "59300.0"
      ]
     },
     "execution_count": 10,
     "metadata": {},
     "output_type": "execute_result"
    }
   ],
   "source": [
    "my_series.loc['2020-09-18']"
   ]
  },
  {
   "cell_type": "code",
   "execution_count": 14,
   "id": "1998e54d",
   "metadata": {},
   "outputs": [
    {
     "data": {
      "text/plain": [
       "59300.0"
      ]
     },
     "execution_count": 14,
     "metadata": {},
     "output_type": "execute_result"
    }
   ],
   "source": [
    "my_series.iloc[7]"
   ]
  },
  {
   "cell_type": "code",
   "execution_count": 15,
   "id": "3dac9d93",
   "metadata": {},
   "outputs": [
    {
     "data": {
      "text/plain": [
       "61000.0"
      ]
     },
     "execution_count": 15,
     "metadata": {},
     "output_type": "execute_result"
    }
   ],
   "source": [
    "my_series.iloc[4]"
   ]
  },
  {
   "cell_type": "code",
   "execution_count": 16,
   "id": "deb1ff43",
   "metadata": {},
   "outputs": [
    {
     "data": {
      "text/plain": [
       "2020-09-15    61000.0\n",
       "2020-09-16    61000.0\n",
       "2020-09-17    59500.0\n",
       "2020-09-18    59300.0\n",
       "Name: A005930, dtype: float64"
      ]
     },
     "execution_count": 16,
     "metadata": {},
     "output_type": "execute_result"
    }
   ],
   "source": [
    "my_series.loc['2020-09-15':'2020-09-18']"
   ]
  },
  {
   "cell_type": "code",
   "execution_count": 19,
   "id": "3106311b",
   "metadata": {},
   "outputs": [
    {
     "data": {
      "text/plain": [
       "2020-09-15    61000.0\n",
       "2020-09-16    61000.0\n",
       "2020-09-17    59500.0\n",
       "Name: A005930, dtype: float64"
      ]
     },
     "execution_count": 19,
     "metadata": {},
     "output_type": "execute_result"
    }
   ],
   "source": [
    "my_series.iloc[4:7]"
   ]
  },
  {
   "cell_type": "code",
   "execution_count": 20,
   "id": "5a2314d8",
   "metadata": {},
   "outputs": [
    {
     "data": {
      "text/plain": [
       "2020-09-15    61000.0\n",
       "2020-09-17    59500.0\n",
       "Name: A005930, dtype: float64"
      ]
     },
     "execution_count": 20,
     "metadata": {},
     "output_type": "execute_result"
    }
   ],
   "source": [
    "my_series.iloc[4:7:2]"
   ]
  },
  {
   "cell_type": "code",
   "execution_count": 24,
   "id": "e5317f62",
   "metadata": {},
   "outputs": [
    {
     "data": {
      "text/plain": [
       "2020-09-15    122000.0\n",
       "2020-09-16    122000.0\n",
       "2020-09-17    119000.0\n",
       "2020-09-18    118600.0\n",
       "Name: A005930, dtype: float64"
      ]
     },
     "execution_count": 24,
     "metadata": {},
     "output_type": "execute_result"
    }
   ],
   "source": [
    "my_series.iloc[4:] + my_series.iloc[4:]"
   ]
  },
  {
   "cell_type": "code",
   "execution_count": 26,
   "id": "4be2c9b1",
   "metadata": {},
   "outputs": [
    {
     "data": {
      "text/plain": [
       "2020-09-15    361000.0\n",
       "2020-09-17    359500.0\n",
       "Name: A005930, dtype: float64"
      ]
     },
     "execution_count": 26,
     "metadata": {},
     "output_type": "execute_result"
    }
   ],
   "source": [
    "my_series.loc['2020-09-15'::2] + 300000"
   ]
  },
  {
   "cell_type": "code",
   "execution_count": 27,
   "id": "d4370d4c",
   "metadata": {},
   "outputs": [
    {
     "data": {
      "text/plain": [
       "60200.0"
      ]
     },
     "execution_count": 27,
     "metadata": {},
     "output_type": "execute_result"
    }
   ],
   "source": [
    "my_series.iloc[4:].mean()"
   ]
  },
  {
   "cell_type": "code",
   "execution_count": 28,
   "id": "56d014bd",
   "metadata": {},
   "outputs": [
    {
     "data": {
      "text/plain": [
       "60200.0"
      ]
     },
     "execution_count": 28,
     "metadata": {},
     "output_type": "execute_result"
    }
   ],
   "source": [
    "my_series.loc['2020-09-15':].mean()"
   ]
  },
  {
   "cell_type": "code",
   "execution_count": 29,
   "id": "81306c44",
   "metadata": {},
   "outputs": [
    {
     "data": {
      "text/plain": [
       "a      11\n",
       "b      22\n",
       "xs      3\n",
       "el1    45\n",
       "Name: apple, dtype: int64"
      ]
     },
     "execution_count": 29,
     "metadata": {},
     "output_type": "execute_result"
    }
   ],
   "source": [
    "new_sr = pd.Series([11,22,3,45], name = 'apple',\n",
    "                  index = ['a','b','xs','el1'])\n",
    "new_sr"
   ]
  }
 ],
 "metadata": {
  "kernelspec": {
   "display_name": "Python 3",
   "language": "python",
   "name": "python3"
  },
  "language_info": {
   "codemirror_mode": {
    "name": "ipython",
    "version": 3
   },
   "file_extension": ".py",
   "mimetype": "text/x-python",
   "name": "python",
   "nbconvert_exporter": "python",
   "pygments_lexer": "ipython3",
   "version": "3.8.8"
  }
 },
 "nbformat": 4,
 "nbformat_minor": 5
}
