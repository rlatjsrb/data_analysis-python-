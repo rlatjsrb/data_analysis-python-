{
 "cells": [
  {
   "cell_type": "markdown",
   "id": "2ea3e0d5",
   "metadata": {},
   "source": [
    "DataFrame 공부"
   ]
  },
  {
   "cell_type": "code",
   "execution_count": 1,
   "id": "ba35c879",
   "metadata": {},
   "outputs": [],
   "source": [
    "import pandas as pd"
   ]
  },
  {
   "cell_type": "code",
   "execution_count": 2,
   "id": "cf105175",
   "metadata": {},
   "outputs": [
    {
     "data": {
      "text/html": [
       "<div>\n",
       "<style scoped>\n",
       "    .dataframe tbody tr th:only-of-type {\n",
       "        vertical-align: middle;\n",
       "    }\n",
       "\n",
       "    .dataframe tbody tr th {\n",
       "        vertical-align: top;\n",
       "    }\n",
       "\n",
       "    .dataframe thead th {\n",
       "        text-align: right;\n",
       "    }\n",
       "</style>\n",
       "<table border=\"1\" class=\"dataframe\">\n",
       "  <thead>\n",
       "    <tr style=\"text-align: right;\">\n",
       "      <th></th>\n",
       "      <th>2018-06-01</th>\n",
       "      <th>2018-06-04</th>\n",
       "      <th>2018-06-05</th>\n",
       "      <th>2018-06-07</th>\n",
       "      <th>2018-06-08</th>\n",
       "      <th>2018-06-11</th>\n",
       "      <th>2018-06-12</th>\n",
       "      <th>2018-06-14</th>\n",
       "      <th>2018-06-15</th>\n",
       "      <th>2018-06-18</th>\n",
       "      <th>...</th>\n",
       "      <th>2020-09-07</th>\n",
       "      <th>2020-09-08</th>\n",
       "      <th>2020-09-09</th>\n",
       "      <th>2020-09-10</th>\n",
       "      <th>2020-09-11</th>\n",
       "      <th>2020-09-14</th>\n",
       "      <th>2020-09-15</th>\n",
       "      <th>2020-09-16</th>\n",
       "      <th>2020-09-17</th>\n",
       "      <th>2020-09-18</th>\n",
       "    </tr>\n",
       "    <tr>\n",
       "      <th>Symbol</th>\n",
       "      <th></th>\n",
       "      <th></th>\n",
       "      <th></th>\n",
       "      <th></th>\n",
       "      <th></th>\n",
       "      <th></th>\n",
       "      <th></th>\n",
       "      <th></th>\n",
       "      <th></th>\n",
       "      <th></th>\n",
       "      <th></th>\n",
       "      <th></th>\n",
       "      <th></th>\n",
       "      <th></th>\n",
       "      <th></th>\n",
       "      <th></th>\n",
       "      <th></th>\n",
       "      <th></th>\n",
       "      <th></th>\n",
       "      <th></th>\n",
       "      <th></th>\n",
       "    </tr>\n",
       "  </thead>\n",
       "  <tbody>\n",
       "    <tr>\n",
       "      <th>A000020</th>\n",
       "      <td>11550.0</td>\n",
       "      <td>11750.0</td>\n",
       "      <td>11700.0</td>\n",
       "      <td>11650.0</td>\n",
       "      <td>11500.0</td>\n",
       "      <td>11500.0</td>\n",
       "      <td>11650.0</td>\n",
       "      <td>12000.0</td>\n",
       "      <td>11800.0</td>\n",
       "      <td>11450.0</td>\n",
       "      <td>...</td>\n",
       "      <td>25550.0</td>\n",
       "      <td>23650.0</td>\n",
       "      <td>24550.0</td>\n",
       "      <td>25950.0</td>\n",
       "      <td>26750.0</td>\n",
       "      <td>26300.0</td>\n",
       "      <td>25400.0</td>\n",
       "      <td>25050.0</td>\n",
       "      <td>25300.0</td>\n",
       "      <td>25050.0</td>\n",
       "    </tr>\n",
       "    <tr>\n",
       "      <th>A000030</th>\n",
       "      <td>15500.0</td>\n",
       "      <td>15950.0</td>\n",
       "      <td>16050.0</td>\n",
       "      <td>16500.0</td>\n",
       "      <td>16600.0</td>\n",
       "      <td>16650.0</td>\n",
       "      <td>16850.0</td>\n",
       "      <td>16500.0</td>\n",
       "      <td>16100.0</td>\n",
       "      <td>16350.0</td>\n",
       "      <td>...</td>\n",
       "      <td>14800.0</td>\n",
       "      <td>14800.0</td>\n",
       "      <td>14800.0</td>\n",
       "      <td>14800.0</td>\n",
       "      <td>14800.0</td>\n",
       "      <td>14800.0</td>\n",
       "      <td>14800.0</td>\n",
       "      <td>14800.0</td>\n",
       "      <td>14800.0</td>\n",
       "      <td>14800.0</td>\n",
       "    </tr>\n",
       "    <tr>\n",
       "      <th>A000040</th>\n",
       "      <td>2992.0</td>\n",
       "      <td>3021.0</td>\n",
       "      <td>3025.0</td>\n",
       "      <td>3069.0</td>\n",
       "      <td>3045.0</td>\n",
       "      <td>2984.0</td>\n",
       "      <td>2976.0</td>\n",
       "      <td>3033.0</td>\n",
       "      <td>3033.0</td>\n",
       "      <td>3017.0</td>\n",
       "      <td>...</td>\n",
       "      <td>980.0</td>\n",
       "      <td>932.0</td>\n",
       "      <td>741.0</td>\n",
       "      <td>875.0</td>\n",
       "      <td>840.0</td>\n",
       "      <td>860.0</td>\n",
       "      <td>833.0</td>\n",
       "      <td>817.0</td>\n",
       "      <td>812.0</td>\n",
       "      <td>796.0</td>\n",
       "    </tr>\n",
       "    <tr>\n",
       "      <th>A000050</th>\n",
       "      <td>13200.0</td>\n",
       "      <td>13550.0</td>\n",
       "      <td>13600.0</td>\n",
       "      <td>13800.0</td>\n",
       "      <td>13800.0</td>\n",
       "      <td>13800.0</td>\n",
       "      <td>13650.0</td>\n",
       "      <td>13850.0</td>\n",
       "      <td>14500.0</td>\n",
       "      <td>14550.0</td>\n",
       "      <td>...</td>\n",
       "      <td>11100.0</td>\n",
       "      <td>11350.0</td>\n",
       "      <td>11550.0</td>\n",
       "      <td>11500.0</td>\n",
       "      <td>11550.0</td>\n",
       "      <td>11300.0</td>\n",
       "      <td>11300.0</td>\n",
       "      <td>11050.0</td>\n",
       "      <td>10900.0</td>\n",
       "      <td>10750.0</td>\n",
       "    </tr>\n",
       "    <tr>\n",
       "      <th>A000060</th>\n",
       "      <td>20050.0</td>\n",
       "      <td>20050.0</td>\n",
       "      <td>20150.0</td>\n",
       "      <td>20050.0</td>\n",
       "      <td>20400.0</td>\n",
       "      <td>20150.0</td>\n",
       "      <td>20700.0</td>\n",
       "      <td>20950.0</td>\n",
       "      <td>20150.0</td>\n",
       "      <td>20900.0</td>\n",
       "      <td>...</td>\n",
       "      <td>12700.0</td>\n",
       "      <td>12700.0</td>\n",
       "      <td>12650.0</td>\n",
       "      <td>12700.0</td>\n",
       "      <td>12800.0</td>\n",
       "      <td>13000.0</td>\n",
       "      <td>13200.0</td>\n",
       "      <td>13150.0</td>\n",
       "      <td>13150.0</td>\n",
       "      <td>13200.0</td>\n",
       "    </tr>\n",
       "    <tr>\n",
       "      <th>...</th>\n",
       "      <td>...</td>\n",
       "      <td>...</td>\n",
       "      <td>...</td>\n",
       "      <td>...</td>\n",
       "      <td>...</td>\n",
       "      <td>...</td>\n",
       "      <td>...</td>\n",
       "      <td>...</td>\n",
       "      <td>...</td>\n",
       "      <td>...</td>\n",
       "      <td>...</td>\n",
       "      <td>...</td>\n",
       "      <td>...</td>\n",
       "      <td>...</td>\n",
       "      <td>...</td>\n",
       "      <td>...</td>\n",
       "      <td>...</td>\n",
       "      <td>...</td>\n",
       "      <td>...</td>\n",
       "      <td>...</td>\n",
       "      <td>...</td>\n",
       "    </tr>\n",
       "    <tr>\n",
       "      <th>A950160</th>\n",
       "      <td>38600.0</td>\n",
       "      <td>36400.0</td>\n",
       "      <td>36350.0</td>\n",
       "      <td>38700.0</td>\n",
       "      <td>40200.0</td>\n",
       "      <td>39250.0</td>\n",
       "      <td>38300.0</td>\n",
       "      <td>38350.0</td>\n",
       "      <td>39000.0</td>\n",
       "      <td>37600.0</td>\n",
       "      <td>...</td>\n",
       "      <td>9540.0</td>\n",
       "      <td>9540.0</td>\n",
       "      <td>9540.0</td>\n",
       "      <td>9540.0</td>\n",
       "      <td>9540.0</td>\n",
       "      <td>9540.0</td>\n",
       "      <td>9540.0</td>\n",
       "      <td>9540.0</td>\n",
       "      <td>8010.0</td>\n",
       "      <td>8010.0</td>\n",
       "    </tr>\n",
       "    <tr>\n",
       "      <th>A950170</th>\n",
       "      <td>13850.0</td>\n",
       "      <td>14250.0</td>\n",
       "      <td>14450.0</td>\n",
       "      <td>14300.0</td>\n",
       "      <td>14150.0</td>\n",
       "      <td>13650.0</td>\n",
       "      <td>14050.0</td>\n",
       "      <td>13600.0</td>\n",
       "      <td>13550.0</td>\n",
       "      <td>11900.0</td>\n",
       "      <td>...</td>\n",
       "      <td>4040.0</td>\n",
       "      <td>4050.0</td>\n",
       "      <td>4245.0</td>\n",
       "      <td>4275.0</td>\n",
       "      <td>4200.0</td>\n",
       "      <td>4195.0</td>\n",
       "      <td>4070.0</td>\n",
       "      <td>4045.0</td>\n",
       "      <td>4015.0</td>\n",
       "      <td>4055.0</td>\n",
       "    </tr>\n",
       "    <tr>\n",
       "      <th>A950180</th>\n",
       "      <td>NaN</td>\n",
       "      <td>NaN</td>\n",
       "      <td>NaN</td>\n",
       "      <td>NaN</td>\n",
       "      <td>NaN</td>\n",
       "      <td>NaN</td>\n",
       "      <td>NaN</td>\n",
       "      <td>NaN</td>\n",
       "      <td>NaN</td>\n",
       "      <td>NaN</td>\n",
       "      <td>...</td>\n",
       "      <td>13200.0</td>\n",
       "      <td>13150.0</td>\n",
       "      <td>13100.0</td>\n",
       "      <td>13150.0</td>\n",
       "      <td>13100.0</td>\n",
       "      <td>13900.0</td>\n",
       "      <td>13250.0</td>\n",
       "      <td>13350.0</td>\n",
       "      <td>13550.0</td>\n",
       "      <td>13450.0</td>\n",
       "    </tr>\n",
       "    <tr>\n",
       "      <th>A950190</th>\n",
       "      <td>NaN</td>\n",
       "      <td>NaN</td>\n",
       "      <td>NaN</td>\n",
       "      <td>NaN</td>\n",
       "      <td>NaN</td>\n",
       "      <td>NaN</td>\n",
       "      <td>NaN</td>\n",
       "      <td>NaN</td>\n",
       "      <td>NaN</td>\n",
       "      <td>NaN</td>\n",
       "      <td>...</td>\n",
       "      <td>32200.0</td>\n",
       "      <td>31200.0</td>\n",
       "      <td>30400.0</td>\n",
       "      <td>30500.0</td>\n",
       "      <td>30150.0</td>\n",
       "      <td>30050.0</td>\n",
       "      <td>31450.0</td>\n",
       "      <td>31750.0</td>\n",
       "      <td>31200.0</td>\n",
       "      <td>30350.0</td>\n",
       "    </tr>\n",
       "    <tr>\n",
       "      <th>A950200</th>\n",
       "      <td>NaN</td>\n",
       "      <td>NaN</td>\n",
       "      <td>NaN</td>\n",
       "      <td>NaN</td>\n",
       "      <td>NaN</td>\n",
       "      <td>NaN</td>\n",
       "      <td>NaN</td>\n",
       "      <td>NaN</td>\n",
       "      <td>NaN</td>\n",
       "      <td>NaN</td>\n",
       "      <td>...</td>\n",
       "      <td>16750.0</td>\n",
       "      <td>16950.0</td>\n",
       "      <td>17250.0</td>\n",
       "      <td>17100.0</td>\n",
       "      <td>17350.0</td>\n",
       "      <td>17450.0</td>\n",
       "      <td>15800.0</td>\n",
       "      <td>15100.0</td>\n",
       "      <td>14700.0</td>\n",
       "      <td>14550.0</td>\n",
       "    </tr>\n",
       "  </tbody>\n",
       "</table>\n",
       "<p>2274 rows × 568 columns</p>\n",
       "</div>"
      ],
      "text/plain": [
       "         2018-06-01  2018-06-04  2018-06-05  2018-06-07  2018-06-08  \\\n",
       "Symbol                                                                \n",
       "A000020     11550.0     11750.0     11700.0     11650.0     11500.0   \n",
       "A000030     15500.0     15950.0     16050.0     16500.0     16600.0   \n",
       "A000040      2992.0      3021.0      3025.0      3069.0      3045.0   \n",
       "A000050     13200.0     13550.0     13600.0     13800.0     13800.0   \n",
       "A000060     20050.0     20050.0     20150.0     20050.0     20400.0   \n",
       "...             ...         ...         ...         ...         ...   \n",
       "A950160     38600.0     36400.0     36350.0     38700.0     40200.0   \n",
       "A950170     13850.0     14250.0     14450.0     14300.0     14150.0   \n",
       "A950180         NaN         NaN         NaN         NaN         NaN   \n",
       "A950190         NaN         NaN         NaN         NaN         NaN   \n",
       "A950200         NaN         NaN         NaN         NaN         NaN   \n",
       "\n",
       "         2018-06-11  2018-06-12  2018-06-14  2018-06-15  2018-06-18  ...  \\\n",
       "Symbol                                                               ...   \n",
       "A000020     11500.0     11650.0     12000.0     11800.0     11450.0  ...   \n",
       "A000030     16650.0     16850.0     16500.0     16100.0     16350.0  ...   \n",
       "A000040      2984.0      2976.0      3033.0      3033.0      3017.0  ...   \n",
       "A000050     13800.0     13650.0     13850.0     14500.0     14550.0  ...   \n",
       "A000060     20150.0     20700.0     20950.0     20150.0     20900.0  ...   \n",
       "...             ...         ...         ...         ...         ...  ...   \n",
       "A950160     39250.0     38300.0     38350.0     39000.0     37600.0  ...   \n",
       "A950170     13650.0     14050.0     13600.0     13550.0     11900.0  ...   \n",
       "A950180         NaN         NaN         NaN         NaN         NaN  ...   \n",
       "A950190         NaN         NaN         NaN         NaN         NaN  ...   \n",
       "A950200         NaN         NaN         NaN         NaN         NaN  ...   \n",
       "\n",
       "         2020-09-07  2020-09-08  2020-09-09  2020-09-10  2020-09-11  \\\n",
       "Symbol                                                                \n",
       "A000020     25550.0     23650.0     24550.0     25950.0     26750.0   \n",
       "A000030     14800.0     14800.0     14800.0     14800.0     14800.0   \n",
       "A000040       980.0       932.0       741.0       875.0       840.0   \n",
       "A000050     11100.0     11350.0     11550.0     11500.0     11550.0   \n",
       "A000060     12700.0     12700.0     12650.0     12700.0     12800.0   \n",
       "...             ...         ...         ...         ...         ...   \n",
       "A950160      9540.0      9540.0      9540.0      9540.0      9540.0   \n",
       "A950170      4040.0      4050.0      4245.0      4275.0      4200.0   \n",
       "A950180     13200.0     13150.0     13100.0     13150.0     13100.0   \n",
       "A950190     32200.0     31200.0     30400.0     30500.0     30150.0   \n",
       "A950200     16750.0     16950.0     17250.0     17100.0     17350.0   \n",
       "\n",
       "         2020-09-14  2020-09-15  2020-09-16  2020-09-17  2020-09-18  \n",
       "Symbol                                                               \n",
       "A000020     26300.0     25400.0     25050.0     25300.0     25050.0  \n",
       "A000030     14800.0     14800.0     14800.0     14800.0     14800.0  \n",
       "A000040       860.0       833.0       817.0       812.0       796.0  \n",
       "A000050     11300.0     11300.0     11050.0     10900.0     10750.0  \n",
       "A000060     13000.0     13200.0     13150.0     13150.0     13200.0  \n",
       "...             ...         ...         ...         ...         ...  \n",
       "A950160      9540.0      9540.0      9540.0      8010.0      8010.0  \n",
       "A950170      4195.0      4070.0      4045.0      4015.0      4055.0  \n",
       "A950180     13900.0     13250.0     13350.0     13550.0     13450.0  \n",
       "A950190     30050.0     31450.0     31750.0     31200.0     30350.0  \n",
       "A950200     17450.0     15800.0     15100.0     14700.0     14550.0  \n",
       "\n",
       "[2274 rows x 568 columns]"
      ]
     },
     "execution_count": 2,
     "metadata": {},
     "output_type": "execute_result"
    }
   ],
   "source": [
    "stock_data = pd.read_csv('stock.adj_close.csv',index_col = 0)\n",
    "stock_data"
   ]
  },
  {
   "cell_type": "code",
   "execution_count": 3,
   "id": "544531db",
   "metadata": {},
   "outputs": [
    {
     "data": {
      "text/html": [
       "<div>\n",
       "<style scoped>\n",
       "    .dataframe tbody tr th:only-of-type {\n",
       "        vertical-align: middle;\n",
       "    }\n",
       "\n",
       "    .dataframe tbody tr th {\n",
       "        vertical-align: top;\n",
       "    }\n",
       "\n",
       "    .dataframe thead th {\n",
       "        text-align: right;\n",
       "    }\n",
       "</style>\n",
       "<table border=\"1\" class=\"dataframe\">\n",
       "  <thead>\n",
       "    <tr style=\"text-align: right;\">\n",
       "      <th>Symbol</th>\n",
       "      <th>A005930</th>\n",
       "      <th>A005940</th>\n",
       "      <th>A005950</th>\n",
       "      <th>A005960</th>\n",
       "      <th>A005980</th>\n",
       "      <th>A005990</th>\n",
       "    </tr>\n",
       "  </thead>\n",
       "  <tbody>\n",
       "    <tr>\n",
       "      <th>2020-09-09</th>\n",
       "      <td>58400.0</td>\n",
       "      <td>9190.0</td>\n",
       "      <td>9080.0</td>\n",
       "      <td>11000.0</td>\n",
       "      <td>671.0</td>\n",
       "      <td>7990.0</td>\n",
       "    </tr>\n",
       "    <tr>\n",
       "      <th>2020-09-10</th>\n",
       "      <td>59200.0</td>\n",
       "      <td>9280.0</td>\n",
       "      <td>9280.0</td>\n",
       "      <td>11150.0</td>\n",
       "      <td>671.0</td>\n",
       "      <td>7960.0</td>\n",
       "    </tr>\n",
       "    <tr>\n",
       "      <th>2020-09-11</th>\n",
       "      <td>59000.0</td>\n",
       "      <td>9270.0</td>\n",
       "      <td>9360.0</td>\n",
       "      <td>11050.0</td>\n",
       "      <td>671.0</td>\n",
       "      <td>8120.0</td>\n",
       "    </tr>\n",
       "    <tr>\n",
       "      <th>2020-09-14</th>\n",
       "      <td>60400.0</td>\n",
       "      <td>9370.0</td>\n",
       "      <td>9400.0</td>\n",
       "      <td>11200.0</td>\n",
       "      <td>671.0</td>\n",
       "      <td>8200.0</td>\n",
       "    </tr>\n",
       "    <tr>\n",
       "      <th>2020-09-15</th>\n",
       "      <td>61000.0</td>\n",
       "      <td>9470.0</td>\n",
       "      <td>9390.0</td>\n",
       "      <td>11350.0</td>\n",
       "      <td>671.0</td>\n",
       "      <td>8180.0</td>\n",
       "    </tr>\n",
       "    <tr>\n",
       "      <th>2020-09-16</th>\n",
       "      <td>61000.0</td>\n",
       "      <td>9530.0</td>\n",
       "      <td>9080.0</td>\n",
       "      <td>11250.0</td>\n",
       "      <td>671.0</td>\n",
       "      <td>8180.0</td>\n",
       "    </tr>\n",
       "    <tr>\n",
       "      <th>2020-09-17</th>\n",
       "      <td>59500.0</td>\n",
       "      <td>9320.0</td>\n",
       "      <td>8880.0</td>\n",
       "      <td>11000.0</td>\n",
       "      <td>671.0</td>\n",
       "      <td>8000.0</td>\n",
       "    </tr>\n",
       "    <tr>\n",
       "      <th>2020-09-18</th>\n",
       "      <td>59300.0</td>\n",
       "      <td>9320.0</td>\n",
       "      <td>9070.0</td>\n",
       "      <td>10850.0</td>\n",
       "      <td>671.0</td>\n",
       "      <td>8020.0</td>\n",
       "    </tr>\n",
       "  </tbody>\n",
       "</table>\n",
       "</div>"
      ],
      "text/plain": [
       "Symbol      A005930  A005940  A005950  A005960  A005980  A005990\n",
       "2020-09-09  58400.0   9190.0   9080.0  11000.0    671.0   7990.0\n",
       "2020-09-10  59200.0   9280.0   9280.0  11150.0    671.0   7960.0\n",
       "2020-09-11  59000.0   9270.0   9360.0  11050.0    671.0   8120.0\n",
       "2020-09-14  60400.0   9370.0   9400.0  11200.0    671.0   8200.0\n",
       "2020-09-15  61000.0   9470.0   9390.0  11350.0    671.0   8180.0\n",
       "2020-09-16  61000.0   9530.0   9080.0  11250.0    671.0   8180.0\n",
       "2020-09-17  59500.0   9320.0   8880.0  11000.0    671.0   8000.0\n",
       "2020-09-18  59300.0   9320.0   9070.0  10850.0    671.0   8020.0"
      ]
     },
     "execution_count": 3,
     "metadata": {},
     "output_type": "execute_result"
    }
   ],
   "source": [
    "my_df = stock_data.T.loc['2020-09-09':,'A005900':'A006000']\n",
    "my_df"
   ]
  },
  {
   "cell_type": "code",
   "execution_count": 4,
   "id": "d04edd54",
   "metadata": {},
   "outputs": [
    {
     "data": {
      "text/plain": [
       "61000.0"
      ]
     },
     "execution_count": 4,
     "metadata": {},
     "output_type": "execute_result"
    }
   ],
   "source": [
    "my_df.loc['2020-09-15','A005930']"
   ]
  },
  {
   "cell_type": "code",
   "execution_count": 5,
   "id": "b6a6c2a7",
   "metadata": {},
   "outputs": [
    {
     "data": {
      "text/plain": [
       "Symbol\n",
       "A005930    61000.0\n",
       "A005940     9470.0\n",
       "A005950     9390.0\n",
       "Name: 2020-09-15, dtype: float64"
      ]
     },
     "execution_count": 5,
     "metadata": {},
     "output_type": "execute_result"
    }
   ],
   "source": [
    "my_df.loc['2020-09-15','A005930':'A005950']"
   ]
  },
  {
   "cell_type": "code",
   "execution_count": 6,
   "id": "8af9a288",
   "metadata": {},
   "outputs": [
    {
     "data": {
      "text/plain": [
       "2020-09-15    61000.0\n",
       "2020-09-16    61000.0\n",
       "2020-09-17    59500.0\n",
       "2020-09-18    59300.0\n",
       "Name: A005930, dtype: float64"
      ]
     },
     "execution_count": 6,
     "metadata": {},
     "output_type": "execute_result"
    }
   ],
   "source": [
    "my_df.loc['2020-09-15':'2020-09-18','A005930']"
   ]
  },
  {
   "cell_type": "code",
   "execution_count": 7,
   "id": "53f8d559",
   "metadata": {},
   "outputs": [
    {
     "data": {
      "text/plain": [
       "2020-09-15    61000.0\n",
       "2020-09-17    59500.0\n",
       "Name: A005930, dtype: float64"
      ]
     },
     "execution_count": 7,
     "metadata": {},
     "output_type": "execute_result"
    }
   ],
   "source": [
    "my_df.loc['2020-09-15':'2020-09-18':2,'A005930']"
   ]
  },
  {
   "cell_type": "code",
   "execution_count": 8,
   "id": "5e2e642f",
   "metadata": {},
   "outputs": [
    {
     "data": {
      "text/html": [
       "<div>\n",
       "<style scoped>\n",
       "    .dataframe tbody tr th:only-of-type {\n",
       "        vertical-align: middle;\n",
       "    }\n",
       "\n",
       "    .dataframe tbody tr th {\n",
       "        vertical-align: top;\n",
       "    }\n",
       "\n",
       "    .dataframe thead th {\n",
       "        text-align: right;\n",
       "    }\n",
       "</style>\n",
       "<table border=\"1\" class=\"dataframe\">\n",
       "  <thead>\n",
       "    <tr style=\"text-align: right;\">\n",
       "      <th>Symbol</th>\n",
       "      <th>A005930</th>\n",
       "      <th>A005940</th>\n",
       "      <th>A005950</th>\n",
       "      <th>A005960</th>\n",
       "      <th>A005980</th>\n",
       "      <th>A005990</th>\n",
       "    </tr>\n",
       "  </thead>\n",
       "  <tbody>\n",
       "    <tr>\n",
       "      <th>2020-09-15</th>\n",
       "      <td>61000.0</td>\n",
       "      <td>9470.0</td>\n",
       "      <td>9390.0</td>\n",
       "      <td>11350.0</td>\n",
       "      <td>671.0</td>\n",
       "      <td>8180.0</td>\n",
       "    </tr>\n",
       "    <tr>\n",
       "      <th>2020-09-16</th>\n",
       "      <td>61000.0</td>\n",
       "      <td>9530.0</td>\n",
       "      <td>9080.0</td>\n",
       "      <td>11250.0</td>\n",
       "      <td>671.0</td>\n",
       "      <td>8180.0</td>\n",
       "    </tr>\n",
       "    <tr>\n",
       "      <th>2020-09-17</th>\n",
       "      <td>59500.0</td>\n",
       "      <td>9320.0</td>\n",
       "      <td>8880.0</td>\n",
       "      <td>11000.0</td>\n",
       "      <td>671.0</td>\n",
       "      <td>8000.0</td>\n",
       "    </tr>\n",
       "  </tbody>\n",
       "</table>\n",
       "</div>"
      ],
      "text/plain": [
       "Symbol      A005930  A005940  A005950  A005960  A005980  A005990\n",
       "2020-09-15  61000.0   9470.0   9390.0  11350.0    671.0   8180.0\n",
       "2020-09-16  61000.0   9530.0   9080.0  11250.0    671.0   8180.0\n",
       "2020-09-17  59500.0   9320.0   8880.0  11000.0    671.0   8000.0"
      ]
     },
     "execution_count": 8,
     "metadata": {},
     "output_type": "execute_result"
    }
   ],
   "source": [
    "my_df.iloc[4:7]"
   ]
  },
  {
   "cell_type": "code",
   "execution_count": 9,
   "id": "59b2e83d",
   "metadata": {},
   "outputs": [
    {
     "data": {
      "text/html": [
       "<div>\n",
       "<style scoped>\n",
       "    .dataframe tbody tr th:only-of-type {\n",
       "        vertical-align: middle;\n",
       "    }\n",
       "\n",
       "    .dataframe tbody tr th {\n",
       "        vertical-align: top;\n",
       "    }\n",
       "\n",
       "    .dataframe thead th {\n",
       "        text-align: right;\n",
       "    }\n",
       "</style>\n",
       "<table border=\"1\" class=\"dataframe\">\n",
       "  <thead>\n",
       "    <tr style=\"text-align: right;\">\n",
       "      <th>Symbol</th>\n",
       "      <th>A005930</th>\n",
       "      <th>A005940</th>\n",
       "      <th>A005950</th>\n",
       "      <th>A005960</th>\n",
       "      <th>A005980</th>\n",
       "      <th>A005990</th>\n",
       "    </tr>\n",
       "  </thead>\n",
       "  <tbody>\n",
       "    <tr>\n",
       "      <th>2020-09-15</th>\n",
       "      <td>61000.0</td>\n",
       "      <td>9470.0</td>\n",
       "      <td>9390.0</td>\n",
       "      <td>11350.0</td>\n",
       "      <td>671.0</td>\n",
       "      <td>8180.0</td>\n",
       "    </tr>\n",
       "    <tr>\n",
       "      <th>2020-09-17</th>\n",
       "      <td>59500.0</td>\n",
       "      <td>9320.0</td>\n",
       "      <td>8880.0</td>\n",
       "      <td>11000.0</td>\n",
       "      <td>671.0</td>\n",
       "      <td>8000.0</td>\n",
       "    </tr>\n",
       "  </tbody>\n",
       "</table>\n",
       "</div>"
      ],
      "text/plain": [
       "Symbol      A005930  A005940  A005950  A005960  A005980  A005990\n",
       "2020-09-15  61000.0   9470.0   9390.0  11350.0    671.0   8180.0\n",
       "2020-09-17  59500.0   9320.0   8880.0  11000.0    671.0   8000.0"
      ]
     },
     "execution_count": 9,
     "metadata": {},
     "output_type": "execute_result"
    }
   ],
   "source": [
    "my_df.iloc[4:7:2]"
   ]
  },
  {
   "cell_type": "code",
   "execution_count": 10,
   "id": "a0930726",
   "metadata": {
    "scrolled": false
   },
   "outputs": [
    {
     "data": {
      "text/plain": [
       "Symbol\n",
       "A005960    11000.0\n",
       "A005980      671.0\n",
       "A005990     7990.0\n",
       "Name: 2020-09-09, dtype: float64"
      ]
     },
     "execution_count": 10,
     "metadata": {},
     "output_type": "execute_result"
    }
   ],
   "source": [
    "my_df.iloc[0, 3:]"
   ]
  },
  {
   "cell_type": "code",
   "execution_count": 11,
   "id": "6b1b12c9",
   "metadata": {},
   "outputs": [
    {
     "data": {
      "text/html": [
       "<div>\n",
       "<style scoped>\n",
       "    .dataframe tbody tr th:only-of-type {\n",
       "        vertical-align: middle;\n",
       "    }\n",
       "\n",
       "    .dataframe tbody tr th {\n",
       "        vertical-align: top;\n",
       "    }\n",
       "\n",
       "    .dataframe thead th {\n",
       "        text-align: right;\n",
       "    }\n",
       "</style>\n",
       "<table border=\"1\" class=\"dataframe\">\n",
       "  <thead>\n",
       "    <tr style=\"text-align: right;\">\n",
       "      <th>Symbol</th>\n",
       "      <th>A005940</th>\n",
       "      <th>A005950</th>\n",
       "      <th>A005960</th>\n",
       "    </tr>\n",
       "  </thead>\n",
       "  <tbody>\n",
       "    <tr>\n",
       "      <th>2020-09-15</th>\n",
       "      <td>9470.0</td>\n",
       "      <td>9390.0</td>\n",
       "      <td>11350.0</td>\n",
       "    </tr>\n",
       "    <tr>\n",
       "      <th>2020-09-17</th>\n",
       "      <td>9320.0</td>\n",
       "      <td>8880.0</td>\n",
       "      <td>11000.0</td>\n",
       "    </tr>\n",
       "  </tbody>\n",
       "</table>\n",
       "</div>"
      ],
      "text/plain": [
       "Symbol      A005940  A005950  A005960\n",
       "2020-09-15   9470.0   9390.0  11350.0\n",
       "2020-09-17   9320.0   8880.0  11000.0"
      ]
     },
     "execution_count": 11,
     "metadata": {},
     "output_type": "execute_result"
    }
   ],
   "source": [
    "my_df.iloc[4:7:2, 1:4]"
   ]
  },
  {
   "cell_type": "code",
   "execution_count": 12,
   "id": "46fa210f",
   "metadata": {},
   "outputs": [
    {
     "data": {
      "text/plain": [
       "2020-09-09    58400.0\n",
       "2020-09-10    59200.0\n",
       "2020-09-11    59000.0\n",
       "2020-09-14    60400.0\n",
       "2020-09-15    61000.0\n",
       "2020-09-16    61000.0\n",
       "2020-09-17    59500.0\n",
       "2020-09-18    59300.0\n",
       "Name: A005930, dtype: float64"
      ]
     },
     "execution_count": 12,
     "metadata": {},
     "output_type": "execute_result"
    }
   ],
   "source": [
    "my_df.loc[::,'A005930']"
   ]
  },
  {
   "cell_type": "code",
   "execution_count": 13,
   "id": "823aa128",
   "metadata": {},
   "outputs": [
    {
     "data": {
      "text/plain": [
       "(3, 2)"
      ]
     },
     "execution_count": 13,
     "metadata": {},
     "output_type": "execute_result"
    }
   ],
   "source": [
    "my_df.iloc[5:,::3].shape"
   ]
  },
  {
   "cell_type": "code",
   "execution_count": 14,
   "id": "06e80fa1",
   "metadata": {},
   "outputs": [
    {
     "data": {
      "text/html": [
       "<div>\n",
       "<style scoped>\n",
       "    .dataframe tbody tr th:only-of-type {\n",
       "        vertical-align: middle;\n",
       "    }\n",
       "\n",
       "    .dataframe tbody tr th {\n",
       "        vertical-align: top;\n",
       "    }\n",
       "\n",
       "    .dataframe thead th {\n",
       "        text-align: right;\n",
       "    }\n",
       "</style>\n",
       "<table border=\"1\" class=\"dataframe\">\n",
       "  <thead>\n",
       "    <tr style=\"text-align: right;\">\n",
       "      <th>Symbol</th>\n",
       "      <th>A005930</th>\n",
       "      <th>A005940</th>\n",
       "      <th>A005950</th>\n",
       "      <th>A005960</th>\n",
       "      <th>A005980</th>\n",
       "      <th>A005990</th>\n",
       "    </tr>\n",
       "  </thead>\n",
       "  <tbody>\n",
       "    <tr>\n",
       "      <th>2020-09-09</th>\n",
       "      <td>58400.0</td>\n",
       "      <td>9190.0</td>\n",
       "      <td>9080.0</td>\n",
       "      <td>11000.0</td>\n",
       "      <td>671.0</td>\n",
       "      <td>7990.0</td>\n",
       "    </tr>\n",
       "    <tr>\n",
       "      <th>2020-09-15</th>\n",
       "      <td>61000.0</td>\n",
       "      <td>9470.0</td>\n",
       "      <td>9390.0</td>\n",
       "      <td>11350.0</td>\n",
       "      <td>671.0</td>\n",
       "      <td>8180.0</td>\n",
       "    </tr>\n",
       "  </tbody>\n",
       "</table>\n",
       "</div>"
      ],
      "text/plain": [
       "Symbol      A005930  A005940  A005950  A005960  A005980  A005990\n",
       "2020-09-09  58400.0   9190.0   9080.0  11000.0    671.0   7990.0\n",
       "2020-09-15  61000.0   9470.0   9390.0  11350.0    671.0   8180.0"
      ]
     },
     "execution_count": 14,
     "metadata": {},
     "output_type": "execute_result"
    }
   ],
   "source": [
    "my_df.iloc[::4]"
   ]
  },
  {
   "cell_type": "code",
   "execution_count": 15,
   "id": "a4f18336",
   "metadata": {},
   "outputs": [
    {
     "data": {
      "text/html": [
       "<div>\n",
       "<style scoped>\n",
       "    .dataframe tbody tr th:only-of-type {\n",
       "        vertical-align: middle;\n",
       "    }\n",
       "\n",
       "    .dataframe tbody tr th {\n",
       "        vertical-align: top;\n",
       "    }\n",
       "\n",
       "    .dataframe thead th {\n",
       "        text-align: right;\n",
       "    }\n",
       "</style>\n",
       "<table border=\"1\" class=\"dataframe\">\n",
       "  <thead>\n",
       "    <tr style=\"text-align: right;\">\n",
       "      <th>Symbol</th>\n",
       "      <th>A005950</th>\n",
       "      <th>A005960</th>\n",
       "      <th>A005980</th>\n",
       "      <th>A005990</th>\n",
       "    </tr>\n",
       "  </thead>\n",
       "  <tbody>\n",
       "    <tr>\n",
       "      <th>2020-09-09</th>\n",
       "      <td>9080.0</td>\n",
       "      <td>11000.0</td>\n",
       "      <td>671.0</td>\n",
       "      <td>7990.0</td>\n",
       "    </tr>\n",
       "    <tr>\n",
       "      <th>2020-09-15</th>\n",
       "      <td>9390.0</td>\n",
       "      <td>11350.0</td>\n",
       "      <td>671.0</td>\n",
       "      <td>8180.0</td>\n",
       "    </tr>\n",
       "  </tbody>\n",
       "</table>\n",
       "</div>"
      ],
      "text/plain": [
       "Symbol      A005950  A005960  A005980  A005990\n",
       "2020-09-09   9080.0  11000.0    671.0   7990.0\n",
       "2020-09-15   9390.0  11350.0    671.0   8180.0"
      ]
     },
     "execution_count": 15,
     "metadata": {},
     "output_type": "execute_result"
    }
   ],
   "source": [
    "my_df.iloc[::4].loc[:,'A005950':]"
   ]
  },
  {
   "cell_type": "code",
   "execution_count": 16,
   "id": "e7cbd3fb",
   "metadata": {},
   "outputs": [
    {
     "data": {
      "text/html": [
       "<div>\n",
       "<style scoped>\n",
       "    .dataframe tbody tr th:only-of-type {\n",
       "        vertical-align: middle;\n",
       "    }\n",
       "\n",
       "    .dataframe tbody tr th {\n",
       "        vertical-align: top;\n",
       "    }\n",
       "\n",
       "    .dataframe thead th {\n",
       "        text-align: right;\n",
       "    }\n",
       "</style>\n",
       "<table border=\"1\" class=\"dataframe\">\n",
       "  <thead>\n",
       "    <tr style=\"text-align: right;\">\n",
       "      <th>Symbol</th>\n",
       "      <th>A005950</th>\n",
       "      <th>A005960</th>\n",
       "      <th>A005980</th>\n",
       "      <th>A005990</th>\n",
       "    </tr>\n",
       "  </thead>\n",
       "  <tbody>\n",
       "    <tr>\n",
       "      <th>2020-09-09</th>\n",
       "      <td>9080.0</td>\n",
       "      <td>11000.0</td>\n",
       "      <td>671.0</td>\n",
       "      <td>7990.0</td>\n",
       "    </tr>\n",
       "    <tr>\n",
       "      <th>2020-09-15</th>\n",
       "      <td>9390.0</td>\n",
       "      <td>11350.0</td>\n",
       "      <td>671.0</td>\n",
       "      <td>8180.0</td>\n",
       "    </tr>\n",
       "  </tbody>\n",
       "</table>\n",
       "</div>"
      ],
      "text/plain": [
       "Symbol      A005950  A005960  A005980  A005990\n",
       "2020-09-09   9080.0  11000.0    671.0   7990.0\n",
       "2020-09-15   9390.0  11350.0    671.0   8180.0"
      ]
     },
     "execution_count": 16,
     "metadata": {},
     "output_type": "execute_result"
    }
   ],
   "source": [
    "my_df.loc['2020-09-09'::4].iloc[:,2:]"
   ]
  },
  {
   "cell_type": "code",
   "execution_count": 17,
   "id": "547e27d1",
   "metadata": {},
   "outputs": [
    {
     "data": {
      "text/html": [
       "<div>\n",
       "<style scoped>\n",
       "    .dataframe tbody tr th:only-of-type {\n",
       "        vertical-align: middle;\n",
       "    }\n",
       "\n",
       "    .dataframe tbody tr th {\n",
       "        vertical-align: top;\n",
       "    }\n",
       "\n",
       "    .dataframe thead th {\n",
       "        text-align: right;\n",
       "    }\n",
       "</style>\n",
       "<table border=\"1\" class=\"dataframe\">\n",
       "  <thead>\n",
       "    <tr style=\"text-align: right;\">\n",
       "      <th>Symbol</th>\n",
       "      <th>A005960</th>\n",
       "      <th>A005980</th>\n",
       "      <th>A005990</th>\n",
       "    </tr>\n",
       "  </thead>\n",
       "  <tbody>\n",
       "    <tr>\n",
       "      <th>2020-09-09</th>\n",
       "      <td>11000.0</td>\n",
       "      <td>671.0</td>\n",
       "      <td>7990.0</td>\n",
       "    </tr>\n",
       "    <tr>\n",
       "      <th>2020-09-10</th>\n",
       "      <td>11150.0</td>\n",
       "      <td>671.0</td>\n",
       "      <td>7960.0</td>\n",
       "    </tr>\n",
       "    <tr>\n",
       "      <th>2020-09-11</th>\n",
       "      <td>11050.0</td>\n",
       "      <td>671.0</td>\n",
       "      <td>8120.0</td>\n",
       "    </tr>\n",
       "  </tbody>\n",
       "</table>\n",
       "</div>"
      ],
      "text/plain": [
       "Symbol      A005960  A005980  A005990\n",
       "2020-09-09  11000.0    671.0   7990.0\n",
       "2020-09-10  11150.0    671.0   7960.0\n",
       "2020-09-11  11050.0    671.0   8120.0"
      ]
     },
     "execution_count": 17,
     "metadata": {},
     "output_type": "execute_result"
    }
   ],
   "source": [
    "my_df_2 = my_df.loc[:'2020-09-11','A005960':]\n",
    "my_df_2"
   ]
  },
  {
   "cell_type": "code",
   "execution_count": 18,
   "id": "ff55c87e",
   "metadata": {},
   "outputs": [
    {
     "data": {
      "text/html": [
       "<div>\n",
       "<style scoped>\n",
       "    .dataframe tbody tr th:only-of-type {\n",
       "        vertical-align: middle;\n",
       "    }\n",
       "\n",
       "    .dataframe tbody tr th {\n",
       "        vertical-align: top;\n",
       "    }\n",
       "\n",
       "    .dataframe thead th {\n",
       "        text-align: right;\n",
       "    }\n",
       "</style>\n",
       "<table border=\"1\" class=\"dataframe\">\n",
       "  <thead>\n",
       "    <tr style=\"text-align: right;\">\n",
       "      <th>Symbol</th>\n",
       "      <th>A005960</th>\n",
       "      <th>A005980</th>\n",
       "      <th>A005990</th>\n",
       "    </tr>\n",
       "  </thead>\n",
       "  <tbody>\n",
       "    <tr>\n",
       "      <th>2020-09-09</th>\n",
       "      <td>14300.0</td>\n",
       "      <td>872.3</td>\n",
       "      <td>10387.0</td>\n",
       "    </tr>\n",
       "    <tr>\n",
       "      <th>2020-09-10</th>\n",
       "      <td>14495.0</td>\n",
       "      <td>872.3</td>\n",
       "      <td>10348.0</td>\n",
       "    </tr>\n",
       "    <tr>\n",
       "      <th>2020-09-11</th>\n",
       "      <td>14365.0</td>\n",
       "      <td>872.3</td>\n",
       "      <td>10556.0</td>\n",
       "    </tr>\n",
       "  </tbody>\n",
       "</table>\n",
       "</div>"
      ],
      "text/plain": [
       "Symbol      A005960  A005980  A005990\n",
       "2020-09-09  14300.0    872.3  10387.0\n",
       "2020-09-10  14495.0    872.3  10348.0\n",
       "2020-09-11  14365.0    872.3  10556.0"
      ]
     },
     "execution_count": 18,
     "metadata": {},
     "output_type": "execute_result"
    }
   ],
   "source": [
    "my_df_2 * 1.30"
   ]
  },
  {
   "cell_type": "code",
   "execution_count": 19,
   "id": "a878e5ee",
   "metadata": {},
   "outputs": [
    {
     "data": {
      "text/plain": [
       "Symbol\n",
       "A005960    11066.666667\n",
       "A005980      671.000000\n",
       "A005990     8023.333333\n",
       "dtype: float64"
      ]
     },
     "execution_count": 19,
     "metadata": {},
     "output_type": "execute_result"
    }
   ],
   "source": [
    "my_df_2.mean(axis = 0)"
   ]
  },
  {
   "cell_type": "code",
   "execution_count": 20,
   "id": "29574d3e",
   "metadata": {
    "scrolled": false
   },
   "outputs": [
    {
     "data": {
      "text/plain": [
       "2020-09-09    6553.666667\n",
       "2020-09-10    6593.666667\n",
       "2020-09-11    6613.666667\n",
       "dtype: float64"
      ]
     },
     "execution_count": 20,
     "metadata": {},
     "output_type": "execute_result"
    }
   ],
   "source": [
    "my_df_2.mean(axis = 1)"
   ]
  },
  {
   "cell_type": "markdown",
   "id": "5cd8c23d",
   "metadata": {},
   "source": [
    " DataFrame 연산 정렬"
   ]
  },
  {
   "cell_type": "code",
   "execution_count": 21,
   "id": "23def2a9",
   "metadata": {},
   "outputs": [
    {
     "data": {
      "text/html": [
       "<div>\n",
       "<style scoped>\n",
       "    .dataframe tbody tr th:only-of-type {\n",
       "        vertical-align: middle;\n",
       "    }\n",
       "\n",
       "    .dataframe tbody tr th {\n",
       "        vertical-align: top;\n",
       "    }\n",
       "\n",
       "    .dataframe thead th {\n",
       "        text-align: right;\n",
       "    }\n",
       "</style>\n",
       "<table border=\"1\" class=\"dataframe\">\n",
       "  <thead>\n",
       "    <tr style=\"text-align: right;\">\n",
       "      <th>Symbol</th>\n",
       "      <th>A005960</th>\n",
       "      <th>A005980</th>\n",
       "      <th>A005990</th>\n",
       "    </tr>\n",
       "  </thead>\n",
       "  <tbody>\n",
       "    <tr>\n",
       "      <th>2020-09-09</th>\n",
       "      <td>True</td>\n",
       "      <td>True</td>\n",
       "      <td>True</td>\n",
       "    </tr>\n",
       "    <tr>\n",
       "      <th>2020-09-10</th>\n",
       "      <td>True</td>\n",
       "      <td>True</td>\n",
       "      <td>True</td>\n",
       "    </tr>\n",
       "    <tr>\n",
       "      <th>2020-09-11</th>\n",
       "      <td>True</td>\n",
       "      <td>True</td>\n",
       "      <td>True</td>\n",
       "    </tr>\n",
       "  </tbody>\n",
       "</table>\n",
       "</div>"
      ],
      "text/plain": [
       "Symbol      A005960  A005980  A005990\n",
       "2020-09-09     True     True     True\n",
       "2020-09-10     True     True     True\n",
       "2020-09-11     True     True     True"
      ]
     },
     "execution_count": 21,
     "metadata": {},
     "output_type": "execute_result"
    }
   ],
   "source": [
    "my_df_2.notna()"
   ]
  },
  {
   "cell_type": "code",
   "execution_count": 22,
   "id": "847ae2e8",
   "metadata": {},
   "outputs": [
    {
     "data": {
      "text/plain": [
       "Symbol\n",
       "A005960    33200.0\n",
       "A005980     2013.0\n",
       "A005990    24070.0\n",
       "dtype: float64"
      ]
     },
     "execution_count": 22,
     "metadata": {},
     "output_type": "execute_result"
    }
   ],
   "source": [
    "my_df_2.sum(axis = 0)"
   ]
  },
  {
   "cell_type": "code",
   "execution_count": 25,
   "id": "493286ae",
   "metadata": {},
   "outputs": [
    {
     "data": {
      "text/plain": [
       "2020-09-09    7990.0\n",
       "2020-09-10    7960.0\n",
       "2020-09-11    8120.0\n",
       "dtype: float64"
      ]
     },
     "execution_count": 25,
     "metadata": {},
     "output_type": "execute_result"
    }
   ],
   "source": [
    "my_df_2.median(axis = 1)"
   ]
  },
  {
   "cell_type": "code",
   "execution_count": 26,
   "id": "2f40f484",
   "metadata": {},
   "outputs": [
    {
     "data": {
      "text/html": [
       "<div>\n",
       "<style scoped>\n",
       "    .dataframe tbody tr th:only-of-type {\n",
       "        vertical-align: middle;\n",
       "    }\n",
       "\n",
       "    .dataframe tbody tr th {\n",
       "        vertical-align: top;\n",
       "    }\n",
       "\n",
       "    .dataframe thead th {\n",
       "        text-align: right;\n",
       "    }\n",
       "</style>\n",
       "<table border=\"1\" class=\"dataframe\">\n",
       "  <thead>\n",
       "    <tr style=\"text-align: right;\">\n",
       "      <th>Symbol</th>\n",
       "      <th>A005960</th>\n",
       "      <th>A005980</th>\n",
       "      <th>A005990</th>\n",
       "    </tr>\n",
       "  </thead>\n",
       "  <tbody>\n",
       "    <tr>\n",
       "      <th>2020-09-09</th>\n",
       "      <td>11000.0</td>\n",
       "      <td>671.0</td>\n",
       "      <td>7990.0</td>\n",
       "    </tr>\n",
       "    <tr>\n",
       "      <th>2020-09-10</th>\n",
       "      <td>22150.0</td>\n",
       "      <td>1342.0</td>\n",
       "      <td>15950.0</td>\n",
       "    </tr>\n",
       "    <tr>\n",
       "      <th>2020-09-11</th>\n",
       "      <td>33200.0</td>\n",
       "      <td>2013.0</td>\n",
       "      <td>24070.0</td>\n",
       "    </tr>\n",
       "  </tbody>\n",
       "</table>\n",
       "</div>"
      ],
      "text/plain": [
       "Symbol      A005960  A005980  A005990\n",
       "2020-09-09  11000.0    671.0   7990.0\n",
       "2020-09-10  22150.0   1342.0  15950.0\n",
       "2020-09-11  33200.0   2013.0  24070.0"
      ]
     },
     "execution_count": 26,
     "metadata": {},
     "output_type": "execute_result"
    }
   ],
   "source": [
    "my_df_2.cumsum(axis = 0)"
   ]
  },
  {
   "cell_type": "code",
   "execution_count": 27,
   "id": "08542657",
   "metadata": {},
   "outputs": [
    {
     "data": {
      "text/html": [
       "<div>\n",
       "<style scoped>\n",
       "    .dataframe tbody tr th:only-of-type {\n",
       "        vertical-align: middle;\n",
       "    }\n",
       "\n",
       "    .dataframe tbody tr th {\n",
       "        vertical-align: top;\n",
       "    }\n",
       "\n",
       "    .dataframe thead th {\n",
       "        text-align: right;\n",
       "    }\n",
       "</style>\n",
       "<table border=\"1\" class=\"dataframe\">\n",
       "  <thead>\n",
       "    <tr style=\"text-align: right;\">\n",
       "      <th>Symbol</th>\n",
       "      <th>A005960</th>\n",
       "      <th>A005980</th>\n",
       "      <th>A005990</th>\n",
       "    </tr>\n",
       "  </thead>\n",
       "  <tbody>\n",
       "    <tr>\n",
       "      <th>2020-09-10</th>\n",
       "      <td>11150.0</td>\n",
       "      <td>671.0</td>\n",
       "      <td>7960.0</td>\n",
       "    </tr>\n",
       "    <tr>\n",
       "      <th>2020-09-09</th>\n",
       "      <td>11000.0</td>\n",
       "      <td>671.0</td>\n",
       "      <td>7990.0</td>\n",
       "    </tr>\n",
       "    <tr>\n",
       "      <th>2020-09-11</th>\n",
       "      <td>11050.0</td>\n",
       "      <td>671.0</td>\n",
       "      <td>8120.0</td>\n",
       "    </tr>\n",
       "  </tbody>\n",
       "</table>\n",
       "</div>"
      ],
      "text/plain": [
       "Symbol      A005960  A005980  A005990\n",
       "2020-09-10  11150.0    671.0   7960.0\n",
       "2020-09-09  11000.0    671.0   7990.0\n",
       "2020-09-11  11050.0    671.0   8120.0"
      ]
     },
     "execution_count": 27,
     "metadata": {},
     "output_type": "execute_result"
    }
   ],
   "source": [
    "my_df_2.sort_values('A005990', axis = 0, ascending = True)"
   ]
  },
  {
   "cell_type": "code",
   "execution_count": 28,
   "id": "46949d25",
   "metadata": {},
   "outputs": [
    {
     "data": {
      "text/html": [
       "<div>\n",
       "<style scoped>\n",
       "    .dataframe tbody tr th:only-of-type {\n",
       "        vertical-align: middle;\n",
       "    }\n",
       "\n",
       "    .dataframe tbody tr th {\n",
       "        vertical-align: top;\n",
       "    }\n",
       "\n",
       "    .dataframe thead th {\n",
       "        text-align: right;\n",
       "    }\n",
       "</style>\n",
       "<table border=\"1\" class=\"dataframe\">\n",
       "  <thead>\n",
       "    <tr style=\"text-align: right;\">\n",
       "      <th>Symbol</th>\n",
       "      <th>A005960</th>\n",
       "      <th>A005980</th>\n",
       "      <th>A005990</th>\n",
       "    </tr>\n",
       "  </thead>\n",
       "  <tbody>\n",
       "    <tr>\n",
       "      <th>2020-09-10</th>\n",
       "      <td>11150.0</td>\n",
       "      <td>671.0</td>\n",
       "      <td>7960.0</td>\n",
       "    </tr>\n",
       "    <tr>\n",
       "      <th>2020-09-09</th>\n",
       "      <td>11000.0</td>\n",
       "      <td>671.0</td>\n",
       "      <td>7990.0</td>\n",
       "    </tr>\n",
       "    <tr>\n",
       "      <th>2020-09-11</th>\n",
       "      <td>11050.0</td>\n",
       "      <td>671.0</td>\n",
       "      <td>8120.0</td>\n",
       "    </tr>\n",
       "  </tbody>\n",
       "</table>\n",
       "</div>"
      ],
      "text/plain": [
       "Symbol      A005960  A005980  A005990\n",
       "2020-09-10  11150.0    671.0   7960.0\n",
       "2020-09-09  11000.0    671.0   7990.0\n",
       "2020-09-11  11050.0    671.0   8120.0"
      ]
     },
     "execution_count": 28,
     "metadata": {},
     "output_type": "execute_result"
    }
   ],
   "source": [
    "my_df_2.sort_values('A005990', axis = 0)"
   ]
  },
  {
   "cell_type": "code",
   "execution_count": 33,
   "id": "e1f2fc62",
   "metadata": {},
   "outputs": [
    {
     "data": {
      "text/html": [
       "<div>\n",
       "<style scoped>\n",
       "    .dataframe tbody tr th:only-of-type {\n",
       "        vertical-align: middle;\n",
       "    }\n",
       "\n",
       "    .dataframe tbody tr th {\n",
       "        vertical-align: top;\n",
       "    }\n",
       "\n",
       "    .dataframe thead th {\n",
       "        text-align: right;\n",
       "    }\n",
       "</style>\n",
       "<table border=\"1\" class=\"dataframe\">\n",
       "  <thead>\n",
       "    <tr style=\"text-align: right;\">\n",
       "      <th>Symbol</th>\n",
       "      <th>A005980</th>\n",
       "      <th>A005990</th>\n",
       "      <th>A005960</th>\n",
       "    </tr>\n",
       "  </thead>\n",
       "  <tbody>\n",
       "    <tr>\n",
       "      <th>2020-09-09</th>\n",
       "      <td>671.0</td>\n",
       "      <td>7990.0</td>\n",
       "      <td>11000.0</td>\n",
       "    </tr>\n",
       "    <tr>\n",
       "      <th>2020-09-10</th>\n",
       "      <td>671.0</td>\n",
       "      <td>7960.0</td>\n",
       "      <td>11150.0</td>\n",
       "    </tr>\n",
       "    <tr>\n",
       "      <th>2020-09-11</th>\n",
       "      <td>671.0</td>\n",
       "      <td>8120.0</td>\n",
       "      <td>11050.0</td>\n",
       "    </tr>\n",
       "  </tbody>\n",
       "</table>\n",
       "</div>"
      ],
      "text/plain": [
       "Symbol      A005980  A005990  A005960\n",
       "2020-09-09    671.0   7990.0  11000.0\n",
       "2020-09-10    671.0   7960.0  11150.0\n",
       "2020-09-11    671.0   8120.0  11050.0"
      ]
     },
     "execution_count": 33,
     "metadata": {},
     "output_type": "execute_result"
    }
   ],
   "source": [
    "my_df_2.sort_values('2020-09-11', axis = 'columns', ascending = True)"
   ]
  },
  {
   "cell_type": "code",
   "execution_count": 34,
   "id": "75a94184",
   "metadata": {
    "scrolled": true
   },
   "outputs": [
    {
     "data": {
      "text/html": [
       "<div>\n",
       "<style scoped>\n",
       "    .dataframe tbody tr th:only-of-type {\n",
       "        vertical-align: middle;\n",
       "    }\n",
       "\n",
       "    .dataframe tbody tr th {\n",
       "        vertical-align: top;\n",
       "    }\n",
       "\n",
       "    .dataframe thead th {\n",
       "        text-align: right;\n",
       "    }\n",
       "</style>\n",
       "<table border=\"1\" class=\"dataframe\">\n",
       "  <thead>\n",
       "    <tr style=\"text-align: right;\">\n",
       "      <th>Symbol</th>\n",
       "      <th>A005960</th>\n",
       "      <th>A005980</th>\n",
       "      <th>A005990</th>\n",
       "    </tr>\n",
       "  </thead>\n",
       "  <tbody>\n",
       "    <tr>\n",
       "      <th>2020-09-09</th>\n",
       "      <td>3.0</td>\n",
       "      <td>2.0</td>\n",
       "      <td>2.0</td>\n",
       "    </tr>\n",
       "    <tr>\n",
       "      <th>2020-09-10</th>\n",
       "      <td>1.0</td>\n",
       "      <td>2.0</td>\n",
       "      <td>3.0</td>\n",
       "    </tr>\n",
       "    <tr>\n",
       "      <th>2020-09-11</th>\n",
       "      <td>2.0</td>\n",
       "      <td>2.0</td>\n",
       "      <td>1.0</td>\n",
       "    </tr>\n",
       "  </tbody>\n",
       "</table>\n",
       "</div>"
      ],
      "text/plain": [
       "Symbol      A005960  A005980  A005990\n",
       "2020-09-09      3.0      2.0      2.0\n",
       "2020-09-10      1.0      2.0      3.0\n",
       "2020-09-11      2.0      2.0      1.0"
      ]
     },
     "execution_count": 34,
     "metadata": {},
     "output_type": "execute_result"
    }
   ],
   "source": [
    "my_df_2.rank(axis = 0, ascending = False)"
   ]
  },
  {
   "cell_type": "code",
   "execution_count": 36,
   "id": "5b8d8ab8",
   "metadata": {},
   "outputs": [
    {
     "data": {
      "text/html": [
       "<div>\n",
       "<style scoped>\n",
       "    .dataframe tbody tr th:only-of-type {\n",
       "        vertical-align: middle;\n",
       "    }\n",
       "\n",
       "    .dataframe tbody tr th {\n",
       "        vertical-align: top;\n",
       "    }\n",
       "\n",
       "    .dataframe thead th {\n",
       "        text-align: right;\n",
       "    }\n",
       "</style>\n",
       "<table border=\"1\" class=\"dataframe\">\n",
       "  <thead>\n",
       "    <tr style=\"text-align: right;\">\n",
       "      <th></th>\n",
       "      <th>a</th>\n",
       "      <th>b</th>\n",
       "      <th>c</th>\n",
       "    </tr>\n",
       "  </thead>\n",
       "  <tbody>\n",
       "    <tr>\n",
       "      <th>00</th>\n",
       "      <td>0</td>\n",
       "      <td>1</td>\n",
       "      <td>2</td>\n",
       "    </tr>\n",
       "    <tr>\n",
       "      <th>11</th>\n",
       "      <td>3</td>\n",
       "      <td>4</td>\n",
       "      <td>5</td>\n",
       "    </tr>\n",
       "  </tbody>\n",
       "</table>\n",
       "</div>"
      ],
      "text/plain": [
       "    a  b  c\n",
       "00  0  1  2\n",
       "11  3  4  5"
      ]
     },
     "execution_count": 36,
     "metadata": {},
     "output_type": "execute_result"
    }
   ],
   "source": [
    "pd.DataFrame([[0,1,2],[3,4,5]],\n",
    "             index = ['00','11'],\n",
    "             columns = ['a','b','c'] )"
   ]
  },
  {
   "cell_type": "code",
   "execution_count": 37,
   "id": "854b7844",
   "metadata": {},
   "outputs": [
    {
     "data": {
      "text/html": [
       "<div>\n",
       "<style scoped>\n",
       "    .dataframe tbody tr th:only-of-type {\n",
       "        vertical-align: middle;\n",
       "    }\n",
       "\n",
       "    .dataframe tbody tr th {\n",
       "        vertical-align: top;\n",
       "    }\n",
       "\n",
       "    .dataframe thead th {\n",
       "        text-align: right;\n",
       "    }\n",
       "</style>\n",
       "<table border=\"1\" class=\"dataframe\">\n",
       "  <thead>\n",
       "    <tr style=\"text-align: right;\">\n",
       "      <th></th>\n",
       "      <th>0</th>\n",
       "      <th>1</th>\n",
       "      <th>2</th>\n",
       "      <th>3</th>\n",
       "      <th>4</th>\n",
       "    </tr>\n",
       "  </thead>\n",
       "  <tbody>\n",
       "    <tr>\n",
       "      <th>0</th>\n",
       "      <td>1.0</td>\n",
       "      <td>1.0</td>\n",
       "      <td>1.0</td>\n",
       "      <td>1.0</td>\n",
       "      <td>1.0</td>\n",
       "    </tr>\n",
       "    <tr>\n",
       "      <th>1</th>\n",
       "      <td>1.0</td>\n",
       "      <td>1.0</td>\n",
       "      <td>1.0</td>\n",
       "      <td>1.0</td>\n",
       "      <td>1.0</td>\n",
       "    </tr>\n",
       "    <tr>\n",
       "      <th>2</th>\n",
       "      <td>1.0</td>\n",
       "      <td>1.0</td>\n",
       "      <td>1.0</td>\n",
       "      <td>1.0</td>\n",
       "      <td>1.0</td>\n",
       "    </tr>\n",
       "  </tbody>\n",
       "</table>\n",
       "</div>"
      ],
      "text/plain": [
       "     0    1    2    3    4\n",
       "0  1.0  1.0  1.0  1.0  1.0\n",
       "1  1.0  1.0  1.0  1.0  1.0\n",
       "2  1.0  1.0  1.0  1.0  1.0"
      ]
     },
     "execution_count": 37,
     "metadata": {},
     "output_type": "execute_result"
    }
   ],
   "source": [
    "import numpy as np\n",
    "pd.DataFrame(np.ones((3,5)))"
   ]
  },
  {
   "cell_type": "code",
   "execution_count": 40,
   "id": "ec59f69d",
   "metadata": {},
   "outputs": [
    {
     "data": {
      "text/html": [
       "<div>\n",
       "<style scoped>\n",
       "    .dataframe tbody tr th:only-of-type {\n",
       "        vertical-align: middle;\n",
       "    }\n",
       "\n",
       "    .dataframe tbody tr th {\n",
       "        vertical-align: top;\n",
       "    }\n",
       "\n",
       "    .dataframe thead th {\n",
       "        text-align: right;\n",
       "    }\n",
       "</style>\n",
       "<table border=\"1\" class=\"dataframe\">\n",
       "  <thead>\n",
       "    <tr style=\"text-align: right;\">\n",
       "      <th></th>\n",
       "      <th>원티드</th>\n",
       "      <th>사람인</th>\n",
       "    </tr>\n",
       "  </thead>\n",
       "  <tbody>\n",
       "    <tr>\n",
       "      <th>10/22</th>\n",
       "      <td>9800</td>\n",
       "      <td>5500</td>\n",
       "    </tr>\n",
       "    <tr>\n",
       "      <th>10/23</th>\n",
       "      <td>10200</td>\n",
       "      <td>6600</td>\n",
       "    </tr>\n",
       "  </tbody>\n",
       "</table>\n",
       "</div>"
      ],
      "text/plain": [
       "         원티드   사람인\n",
       "10/22   9800  5500\n",
       "10/23  10200  6600"
      ]
     },
     "execution_count": 40,
     "metadata": {},
     "output_type": "execute_result"
    }
   ],
   "source": [
    "traffic_data = pd.DataFrame(\n",
    "    [[9800,5500],[10200,6600]],\n",
    "    index = ['10/22','10/23'],\n",
    "    columns = ['원티드','사람인'])\n",
    "traffic_data"
   ]
  },
  {
   "cell_type": "code",
   "execution_count": 42,
   "id": "d5da5ddb",
   "metadata": {},
   "outputs": [
    {
     "data": {
      "text/html": [
       "<div>\n",
       "<style scoped>\n",
       "    .dataframe tbody tr th:only-of-type {\n",
       "        vertical-align: middle;\n",
       "    }\n",
       "\n",
       "    .dataframe tbody tr th {\n",
       "        vertical-align: top;\n",
       "    }\n",
       "\n",
       "    .dataframe thead th {\n",
       "        text-align: right;\n",
       "    }\n",
       "</style>\n",
       "<table border=\"1\" class=\"dataframe\">\n",
       "  <thead>\n",
       "    <tr style=\"text-align: right;\">\n",
       "      <th></th>\n",
       "      <th>원티드</th>\n",
       "      <th>사람인</th>\n",
       "      <th>잡플래닛</th>\n",
       "    </tr>\n",
       "  </thead>\n",
       "  <tbody>\n",
       "    <tr>\n",
       "      <th>10/22</th>\n",
       "      <td>9800</td>\n",
       "      <td>5500</td>\n",
       "      <td>NaN</td>\n",
       "    </tr>\n",
       "    <tr>\n",
       "      <th>10/23</th>\n",
       "      <td>10200</td>\n",
       "      <td>6600</td>\n",
       "      <td>NaN</td>\n",
       "    </tr>\n",
       "  </tbody>\n",
       "</table>\n",
       "</div>"
      ],
      "text/plain": [
       "         원티드   사람인  잡플래닛\n",
       "10/22   9800  5500   NaN\n",
       "10/23  10200  6600   NaN"
      ]
     },
     "execution_count": 42,
     "metadata": {},
     "output_type": "execute_result"
    }
   ],
   "source": [
    "traffic_data.loc[:,'잡플래닛'] = np.nan\n",
    "traffic_data"
   ]
  },
  {
   "cell_type": "code",
   "execution_count": 44,
   "id": "3d3e248f",
   "metadata": {},
   "outputs": [
    {
     "data": {
      "text/html": [
       "<div>\n",
       "<style scoped>\n",
       "    .dataframe tbody tr th:only-of-type {\n",
       "        vertical-align: middle;\n",
       "    }\n",
       "\n",
       "    .dataframe tbody tr th {\n",
       "        vertical-align: top;\n",
       "    }\n",
       "\n",
       "    .dataframe thead th {\n",
       "        text-align: right;\n",
       "    }\n",
       "</style>\n",
       "<table border=\"1\" class=\"dataframe\">\n",
       "  <thead>\n",
       "    <tr style=\"text-align: right;\">\n",
       "      <th></th>\n",
       "      <th>원티드</th>\n",
       "      <th>사람인</th>\n",
       "      <th>잡플래닛</th>\n",
       "      <th>잡코리아</th>\n",
       "    </tr>\n",
       "  </thead>\n",
       "  <tbody>\n",
       "    <tr>\n",
       "      <th>10/22</th>\n",
       "      <td>9800</td>\n",
       "      <td>5500</td>\n",
       "      <td>NaN</td>\n",
       "      <td>980</td>\n",
       "    </tr>\n",
       "    <tr>\n",
       "      <th>10/23</th>\n",
       "      <td>10200</td>\n",
       "      <td>6600</td>\n",
       "      <td>NaN</td>\n",
       "      <td>1020</td>\n",
       "    </tr>\n",
       "  </tbody>\n",
       "</table>\n",
       "</div>"
      ],
      "text/plain": [
       "         원티드   사람인  잡플래닛  잡코리아\n",
       "10/22   9800  5500   NaN   980\n",
       "10/23  10200  6600   NaN  1020"
      ]
     },
     "execution_count": 44,
     "metadata": {},
     "output_type": "execute_result"
    }
   ],
   "source": [
    "traffic_data.loc[:,'잡코리아'] = [980, 1020]\n",
    "traffic_data"
   ]
  },
  {
   "cell_type": "code",
   "execution_count": 46,
   "id": "538be2c6",
   "metadata": {},
   "outputs": [
    {
     "data": {
      "text/html": [
       "<div>\n",
       "<style scoped>\n",
       "    .dataframe tbody tr th:only-of-type {\n",
       "        vertical-align: middle;\n",
       "    }\n",
       "\n",
       "    .dataframe tbody tr th {\n",
       "        vertical-align: top;\n",
       "    }\n",
       "\n",
       "    .dataframe thead th {\n",
       "        text-align: right;\n",
       "    }\n",
       "</style>\n",
       "<table border=\"1\" class=\"dataframe\">\n",
       "  <thead>\n",
       "    <tr style=\"text-align: right;\">\n",
       "      <th></th>\n",
       "      <th>원티드</th>\n",
       "      <th>사람인</th>\n",
       "      <th>잡플래닛</th>\n",
       "      <th>잡코리아</th>\n",
       "      <th>스펙업</th>\n",
       "    </tr>\n",
       "  </thead>\n",
       "  <tbody>\n",
       "    <tr>\n",
       "      <th>10/22</th>\n",
       "      <td>9800</td>\n",
       "      <td>5500</td>\n",
       "      <td>NaN</td>\n",
       "      <td>980</td>\n",
       "      <td>20000</td>\n",
       "    </tr>\n",
       "    <tr>\n",
       "      <th>10/23</th>\n",
       "      <td>10200</td>\n",
       "      <td>6600</td>\n",
       "      <td>NaN</td>\n",
       "      <td>1020</td>\n",
       "      <td>20000</td>\n",
       "    </tr>\n",
       "  </tbody>\n",
       "</table>\n",
       "</div>"
      ],
      "text/plain": [
       "         원티드   사람인  잡플래닛  잡코리아    스펙업\n",
       "10/22   9800  5500   NaN   980  20000\n",
       "10/23  10200  6600   NaN  1020  20000"
      ]
     },
     "execution_count": 46,
     "metadata": {},
     "output_type": "execute_result"
    }
   ],
   "source": [
    "traffic_data.loc[:,'스펙업'] = 20000\n",
    "traffic_data"
   ]
  },
  {
   "cell_type": "code",
   "execution_count": 47,
   "id": "1b48f52a",
   "metadata": {
    "scrolled": true
   },
   "outputs": [
    {
     "data": {
      "text/html": [
       "<div>\n",
       "<style scoped>\n",
       "    .dataframe tbody tr th:only-of-type {\n",
       "        vertical-align: middle;\n",
       "    }\n",
       "\n",
       "    .dataframe tbody tr th {\n",
       "        vertical-align: top;\n",
       "    }\n",
       "\n",
       "    .dataframe thead th {\n",
       "        text-align: right;\n",
       "    }\n",
       "</style>\n",
       "<table border=\"1\" class=\"dataframe\">\n",
       "  <thead>\n",
       "    <tr style=\"text-align: right;\">\n",
       "      <th></th>\n",
       "      <th>원티드</th>\n",
       "      <th>사람인</th>\n",
       "      <th>잡플래닛</th>\n",
       "      <th>잡코리아</th>\n",
       "      <th>스펙업</th>\n",
       "    </tr>\n",
       "  </thead>\n",
       "  <tbody>\n",
       "    <tr>\n",
       "      <th>10/22</th>\n",
       "      <td>9800</td>\n",
       "      <td>5500</td>\n",
       "      <td>NaN</td>\n",
       "      <td>980</td>\n",
       "      <td>20000</td>\n",
       "    </tr>\n",
       "    <tr>\n",
       "      <th>10/23</th>\n",
       "      <td>10200</td>\n",
       "      <td>6600</td>\n",
       "      <td>NaN</td>\n",
       "      <td>1020</td>\n",
       "      <td>20000</td>\n",
       "    </tr>\n",
       "    <tr>\n",
       "      <th>10/24</th>\n",
       "      <td>12500</td>\n",
       "      <td>4520</td>\n",
       "      <td>3000.0</td>\n",
       "      <td>780</td>\n",
       "      <td>21000</td>\n",
       "    </tr>\n",
       "  </tbody>\n",
       "</table>\n",
       "</div>"
      ],
      "text/plain": [
       "         원티드   사람인    잡플래닛  잡코리아    스펙업\n",
       "10/22   9800  5500     NaN   980  20000\n",
       "10/23  10200  6600     NaN  1020  20000\n",
       "10/24  12500  4520  3000.0   780  21000"
      ]
     },
     "execution_count": 47,
     "metadata": {},
     "output_type": "execute_result"
    }
   ],
   "source": [
    "traffic_data.loc['10/24'] = [12500,4520,3000, 780,21000]\n",
    "traffic_data"
   ]
  },
  {
   "cell_type": "code",
   "execution_count": 48,
   "id": "f18ee868",
   "metadata": {},
   "outputs": [
    {
     "data": {
      "text/html": [
       "<div>\n",
       "<style scoped>\n",
       "    .dataframe tbody tr th:only-of-type {\n",
       "        vertical-align: middle;\n",
       "    }\n",
       "\n",
       "    .dataframe tbody tr th {\n",
       "        vertical-align: top;\n",
       "    }\n",
       "\n",
       "    .dataframe thead th {\n",
       "        text-align: right;\n",
       "    }\n",
       "</style>\n",
       "<table border=\"1\" class=\"dataframe\">\n",
       "  <thead>\n",
       "    <tr style=\"text-align: right;\">\n",
       "      <th></th>\n",
       "      <th>원티드</th>\n",
       "      <th>사람인</th>\n",
       "      <th>잡플래닛</th>\n",
       "      <th>잡코리아</th>\n",
       "      <th>스펙업</th>\n",
       "    </tr>\n",
       "  </thead>\n",
       "  <tbody>\n",
       "    <tr>\n",
       "      <th>10/22</th>\n",
       "      <td>9800</td>\n",
       "      <td>5500</td>\n",
       "      <td>NaN</td>\n",
       "      <td>980</td>\n",
       "      <td>20000</td>\n",
       "    </tr>\n",
       "    <tr>\n",
       "      <th>10/23</th>\n",
       "      <td>10200</td>\n",
       "      <td>6600</td>\n",
       "      <td>NaN</td>\n",
       "      <td>1020</td>\n",
       "      <td>20000</td>\n",
       "    </tr>\n",
       "    <tr>\n",
       "      <th>10/24</th>\n",
       "      <td>12500</td>\n",
       "      <td>4520</td>\n",
       "      <td>3000.0</td>\n",
       "      <td>780</td>\n",
       "      <td>21000</td>\n",
       "    </tr>\n",
       "    <tr>\n",
       "      <th>10/25</th>\n",
       "      <td>2000</td>\n",
       "      <td>2000</td>\n",
       "      <td>2000.0</td>\n",
       "      <td>2000</td>\n",
       "      <td>2000</td>\n",
       "    </tr>\n",
       "  </tbody>\n",
       "</table>\n",
       "</div>"
      ],
      "text/plain": [
       "         원티드   사람인    잡플래닛  잡코리아    스펙업\n",
       "10/22   9800  5500     NaN   980  20000\n",
       "10/23  10200  6600     NaN  1020  20000\n",
       "10/24  12500  4520  3000.0   780  21000\n",
       "10/25   2000  2000  2000.0  2000   2000"
      ]
     },
     "execution_count": 48,
     "metadata": {},
     "output_type": "execute_result"
    }
   ],
   "source": [
    "traffic_data.loc['10/25'] = 2000\n",
    "traffic_data"
   ]
  },
  {
   "cell_type": "code",
   "execution_count": 49,
   "id": "d3eeaace",
   "metadata": {},
   "outputs": [
    {
     "data": {
      "text/html": [
       "<div>\n",
       "<style scoped>\n",
       "    .dataframe tbody tr th:only-of-type {\n",
       "        vertical-align: middle;\n",
       "    }\n",
       "\n",
       "    .dataframe tbody tr th {\n",
       "        vertical-align: top;\n",
       "    }\n",
       "\n",
       "    .dataframe thead th {\n",
       "        text-align: right;\n",
       "    }\n",
       "</style>\n",
       "<table border=\"1\" class=\"dataframe\">\n",
       "  <thead>\n",
       "    <tr style=\"text-align: right;\">\n",
       "      <th></th>\n",
       "      <th>원티드</th>\n",
       "      <th>사람인</th>\n",
       "      <th>잡플래닛</th>\n",
       "      <th>잡코리아</th>\n",
       "      <th>스펙업</th>\n",
       "    </tr>\n",
       "  </thead>\n",
       "  <tbody>\n",
       "    <tr>\n",
       "      <th>10/22</th>\n",
       "      <td>9800</td>\n",
       "      <td>5500</td>\n",
       "      <td>99.0</td>\n",
       "      <td>980</td>\n",
       "      <td>20000</td>\n",
       "    </tr>\n",
       "    <tr>\n",
       "      <th>10/23</th>\n",
       "      <td>10200</td>\n",
       "      <td>6600</td>\n",
       "      <td>NaN</td>\n",
       "      <td>1020</td>\n",
       "      <td>20000</td>\n",
       "    </tr>\n",
       "    <tr>\n",
       "      <th>10/24</th>\n",
       "      <td>12500</td>\n",
       "      <td>4520</td>\n",
       "      <td>3000.0</td>\n",
       "      <td>780</td>\n",
       "      <td>21000</td>\n",
       "    </tr>\n",
       "    <tr>\n",
       "      <th>10/25</th>\n",
       "      <td>2000</td>\n",
       "      <td>2000</td>\n",
       "      <td>2000.0</td>\n",
       "      <td>2000</td>\n",
       "      <td>2000</td>\n",
       "    </tr>\n",
       "  </tbody>\n",
       "</table>\n",
       "</div>"
      ],
      "text/plain": [
       "         원티드   사람인    잡플래닛  잡코리아    스펙업\n",
       "10/22   9800  5500    99.0   980  20000\n",
       "10/23  10200  6600     NaN  1020  20000\n",
       "10/24  12500  4520  3000.0   780  21000\n",
       "10/25   2000  2000  2000.0  2000   2000"
      ]
     },
     "execution_count": 49,
     "metadata": {},
     "output_type": "execute_result"
    }
   ],
   "source": [
    "traffic_data.loc['10/22','잡플래닛'] = 99\n",
    "traffic_data"
   ]
  }
 ],
 "metadata": {
  "kernelspec": {
   "display_name": "Python 3",
   "language": "python",
   "name": "python3"
  },
  "language_info": {
   "codemirror_mode": {
    "name": "ipython",
    "version": 3
   },
   "file_extension": ".py",
   "mimetype": "text/x-python",
   "name": "python",
   "nbconvert_exporter": "python",
   "pygments_lexer": "ipython3",
   "version": "3.8.8"
  }
 },
 "nbformat": 4,
 "nbformat_minor": 5
}
